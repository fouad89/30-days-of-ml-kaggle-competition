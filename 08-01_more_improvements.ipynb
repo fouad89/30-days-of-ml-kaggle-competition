{
 "cells": [
  {
   "cell_type": "markdown",
   "source": [
    "# Version 8\n",
    "In this notebook, and exploration of the data to find feature importance and which columns affect the results the most."
   ],
   "metadata": {}
  },
  {
   "cell_type": "code",
   "execution_count": 1,
   "source": [
    "# reading data from google drive \n",
    "# data paths whether notebook is run locally or google colab\n",
    "import os\n",
    "try:\n",
    "    from google.colab import drive\n",
    "    drive.mount('/content/drive')\n",
    "    COMPETETION_PATH = \"/content/drive/MyDrive/30-days-of-ml-competition1\"\n",
    "    TRAIN_DATA_PATH = \"/content/drive/MyDrive/30-days-of-ml-competition1/data/train.csv\"\n",
    "    TEST_DATA_PATH = \"/content/drive/MyDrive/30-days-of-ml-competition1/data/test.csv\"\n",
    "    OUTPUT_PATH = \"/content/drive/MyDrive/30-days-of-ml-competition1/output\"\n",
    "except:\n",
    "    TRAIN_DATA_PATH = os.path.join(\"data\", \"train.csv\")\n",
    "    TEST_DATA_PATH = os.path.join(\"data\", \"test.csv\")\n",
    "\n",
    "print(f\"Training Path {TRAIN_DATA_PATH}\")\n",
    "print(f\"Testing Path {TEST_DATA_PATH}\")"
   ],
   "outputs": [
    {
     "output_type": "stream",
     "name": "stdout",
     "text": [
      "Training Path data/train.csv\n",
      "Testing Path data/test.csv\n"
     ]
    }
   ],
   "metadata": {}
  },
  {
   "cell_type": "code",
   "execution_count": null,
   "source": [],
   "outputs": [],
   "metadata": {}
  }
 ],
 "metadata": {
  "orig_nbformat": 4,
  "language_info": {
   "name": "python",
   "version": "3.7.6",
   "mimetype": "text/x-python",
   "codemirror_mode": {
    "name": "ipython",
    "version": 3
   },
   "pygments_lexer": "ipython3",
   "nbconvert_exporter": "python",
   "file_extension": ".py"
  },
  "kernelspec": {
   "name": "python3",
   "display_name": "Python 3.7.6 64-bit ('base': conda)"
  },
  "interpreter": {
   "hash": "016f416f43c7de9d71e7f049375c6b8b903fae571cb02d2ed6c16dadea121115"
  }
 },
 "nbformat": 4,
 "nbformat_minor": 2
}