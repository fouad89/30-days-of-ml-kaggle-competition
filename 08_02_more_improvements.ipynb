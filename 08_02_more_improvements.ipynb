{
  "nbformat": 4,
  "nbformat_minor": 0,
  "metadata": {
    "orig_nbformat": 4,
    "language_info": {
      "name": "python",
      "version": "3.7.6",
      "mimetype": "text/x-python",
      "codemirror_mode": {
        "name": "ipython",
        "version": 3
      },
      "pygments_lexer": "ipython3",
      "nbconvert_exporter": "python",
      "file_extension": ".py"
    },
    "kernelspec": {
      "name": "python3",
      "display_name": "Python 3.7.6 64-bit ('base': conda)"
    },
    "interpreter": {
      "hash": "016f416f43c7de9d71e7f049375c6b8b903fae571cb02d2ed6c16dadea121115"
    },
    "colab": {
      "name": "08-02_more_improvements.ipynb",
      "provenance": [],
      "include_colab_link": true
    },
    "accelerator": "GPU"
  },
  "cells": [
    {
      "cell_type": "markdown",
      "metadata": {
        "id": "view-in-github",
        "colab_type": "text"
      },
      "source": [
        "<a href=\"https://colab.research.google.com/github/fouad89/30-days-of-ml-kaggle-competition/blob/main/08_02_more_improvements.ipynb\" target=\"_parent\"><img src=\"https://colab.research.google.com/assets/colab-badge.svg\" alt=\"Open In Colab\"/></a>"
      ]
    },
    {
      "cell_type": "markdown",
      "metadata": {
        "id": "PUtJwmCQw-ZW"
      },
      "source": [
        "# Version 8\n",
        "In this notebook, and exploration of the data to find feature importance and which columns affect the results the most.\n",
        "\n",
        "** using new params \n",
        "<code>\n",
        "xgb_params = {\n",
        "        'learning_rate': 0.03628302216953097,\n",
        "        'subsample': 0.7875490025178,\n",
        "        'colsample_bytree': 0.11807135201147,\n",
        "        'max_depth': 3,\n",
        "        'booster': 'gbtree', \n",
        "        'reg_lambda': 0.0008746338866473539,\n",
        "        'reg_alpha': 23.13181079976304,\n",
        "        'random_state':0,\n",
        "        'n_estimators':10000\n",
        "        }\n",
        "</code>\n",
        "\n",
        "## Results\n",
        "cat2 has the lowest feature importance cat2: 0.005\n",
        "Removing cat2 improved the results slightly."
      ]
    },
    {
      "cell_type": "code",
      "metadata": {
        "colab": {
          "base_uri": "https://localhost:8080/"
        },
        "id": "dU6PdgaD6CJ7",
        "outputId": "376409bc-4ed0-4061-def6-439ff2cca340"
      },
      "source": [
        "import tensorflow as tf\n",
        "tf.test.is_built_with_cuda()\n",
        "tf.config.list_physical_devices()"
      ],
      "execution_count": 18,
      "outputs": [
        {
          "output_type": "execute_result",
          "data": {
            "text/plain": [
              "[PhysicalDevice(name='/physical_device:CPU:0', device_type='CPU'),\n",
              " PhysicalDevice(name='/physical_device:GPU:0', device_type='GPU')]"
            ]
          },
          "metadata": {},
          "execution_count": 18
        }
      ]
    },
    {
      "cell_type": "code",
      "metadata": {
        "id": "hifQkQ1Dw-Zc",
        "colab": {
          "base_uri": "https://localhost:8080/"
        },
        "outputId": "cf34f81b-c33f-44e6-df1e-8e8d98bf2e54"
      },
      "source": [
        "# reading data from google drive \n",
        "# data paths whether notebook is run locally or google colab\n",
        "import os\n",
        "try:\n",
        "    from google.colab import drive\n",
        "    drive.mount('/content/drive')\n",
        "    COMPETETION_PATH = \"/content/drive/MyDrive/30-days-of-ml-competition1\"\n",
        "    TRAIN_DATA_PATH = \"/content/drive/MyDrive/30-days-of-ml-competition1/data/train.csv\"\n",
        "    TEST_DATA_PATH = \"/content/drive/MyDrive/30-days-of-ml-competition1/data/test.csv\"\n",
        "    OUTPUT_PATH = \"/content/drive/MyDrive/30-days-of-ml-competition1/output\"\n",
        "except:\n",
        "    TRAIN_DATA_PATH = os.path.join(\"data\", \"train.csv\")\n",
        "    TEST_DATA_PATH = os.path.join(\"data\", \"test.csv\")\n",
        "    OUTPUT = 'output'\n",
        "\n",
        "print(f\"Training Path {TRAIN_DATA_PATH}\")\n",
        "print(f\"Testing Path {TEST_DATA_PATH}\")"
      ],
      "execution_count": 63,
      "outputs": [
        {
          "output_type": "stream",
          "name": "stdout",
          "text": [
            "Drive already mounted at /content/drive; to attempt to forcibly remount, call drive.mount(\"/content/drive\", force_remount=True).\n",
            "Training Path /content/drive/MyDrive/30-days-of-ml-competition1/data/train.csv\n",
            "Testing Path /content/drive/MyDrive/30-days-of-ml-competition1/data/test.csv\n"
          ]
        }
      ]
    },
    {
      "cell_type": "code",
      "metadata": {
        "id": "0rg-_2ANw-Zg"
      },
      "source": [
        "\n",
        "# library imports\n",
        "import numpy as np \n",
        "import pandas as pd \n",
        "import matplotlib.pyplot as plt\n",
        "import seaborn as sns\n",
        "import pandas_profiling as pp\n",
        "import os\n",
        "from math import *\n",
        "\n",
        "# preprocessing\\\n",
        "from sklearn.model_selection import train_test_split, cross_val_score, cross_val_predict\n",
        "from sklearn.impute import SimpleImputer\n",
        "from sklearn.preprocessing import StandardScaler, OrdinalEncoder, OneHotEncoder\n",
        "from sklearn.pipeline import Pipeline\n",
        "from sklearn.compose import ColumnTransformer\n",
        "\n",
        "# modeling\n",
        "from xgboost import XGBRegressor\n",
        "\n",
        "# evaluation\n",
        "from sklearn.metrics import mean_absolute_error, mean_squared_error\n",
        "\n",
        "import warnings\n",
        "warnings.simplefilter(action='ignore', category=Warning)"
      ],
      "execution_count": 3,
      "outputs": []
    },
    {
      "cell_type": "code",
      "metadata": {
        "id": "SCXMWnqYw-Zh"
      },
      "source": [
        "# reading the data\n",
        "df = pd.read_csv(TRAIN_DATA_PATH, index_col='id')\n",
        "X_test = pd.read_csv(TEST_DATA_PATH, index_col='id')"
      ],
      "execution_count": 4,
      "outputs": []
    },
    {
      "cell_type": "code",
      "metadata": {
        "id": "DHKa1q7Tw-Zh",
        "colab": {
          "base_uri": "https://localhost:8080/"
        },
        "outputId": "12e9367b-b31b-4411-fce7-f7648256f33d"
      },
      "source": [
        "print(f\"Shape of Training Data {df.shape}\")\n",
        "print(f\"Shape of Testing Data {X_test.shape}\")"
      ],
      "execution_count": 5,
      "outputs": [
        {
          "output_type": "stream",
          "name": "stdout",
          "text": [
            "Shape of Training Data (300000, 25)\n",
            "Shape of Testing Data (200000, 24)\n"
          ]
        }
      ]
    },
    {
      "cell_type": "code",
      "metadata": {
        "id": "TIgnlt3hw-Zh"
      },
      "source": [
        "y = df.target.copy()\n",
        "X = df.drop('target', axis=1).copy()"
      ],
      "execution_count": 6,
      "outputs": []
    },
    {
      "cell_type": "code",
      "metadata": {
        "id": "lh27CoGTw-Zi",
        "colab": {
          "base_uri": "https://localhost:8080/"
        },
        "outputId": "c878d309-a903-458f-cfdd-a76c835155a4"
      },
      "source": [
        "def create_num_cols(df):\n",
        "    return df.select_dtypes(exclude=\"object\").columns.to_list()\n",
        "def create_cat_cols(df):\n",
        "    return [cname for cname in df.columns if (df[cname].dtypes==\"object\")]\n",
        "\n",
        "num_cnames = create_num_cols(X)\n",
        "cat_cnames = create_cat_cols(X)\n",
        "all_cnames = num_cnames + cat_cnames\n",
        "\n",
        "print(f\"There are {len(num_cnames)} Numerical columns\")\n",
        "print(f\"There are {len(cat_cnames)} Categorical Columns\")\n",
        "print(f\"In total, there are {len(all_cnames)} columns\")"
      ],
      "execution_count": 7,
      "outputs": [
        {
          "output_type": "stream",
          "name": "stdout",
          "text": [
            "There are 14 Numerical columns\n",
            "There are 10 Categorical Columns\n",
            "In total, there are 24 columns\n"
          ]
        }
      ]
    },
    {
      "cell_type": "markdown",
      "metadata": {
        "id": "pKr8sJrww-Zj"
      },
      "source": [
        "# EDA"
      ]
    },
    {
      "cell_type": "code",
      "metadata": {
        "id": "tQmVKNyNw-Zk",
        "colab": {
          "base_uri": "https://localhost:8080/",
          "height": 317
        },
        "outputId": "6a28e2fd-9fe3-405d-d5a5-ee6ea8ed6bb2"
      },
      "source": [
        "df.describe()"
      ],
      "execution_count": 11,
      "outputs": [
        {
          "output_type": "execute_result",
          "data": {
            "text/html": [
              "<div>\n",
              "<style scoped>\n",
              "    .dataframe tbody tr th:only-of-type {\n",
              "        vertical-align: middle;\n",
              "    }\n",
              "\n",
              "    .dataframe tbody tr th {\n",
              "        vertical-align: top;\n",
              "    }\n",
              "\n",
              "    .dataframe thead th {\n",
              "        text-align: right;\n",
              "    }\n",
              "</style>\n",
              "<table border=\"1\" class=\"dataframe\">\n",
              "  <thead>\n",
              "    <tr style=\"text-align: right;\">\n",
              "      <th></th>\n",
              "      <th>cont0</th>\n",
              "      <th>cont1</th>\n",
              "      <th>cont2</th>\n",
              "      <th>cont3</th>\n",
              "      <th>cont4</th>\n",
              "      <th>cont5</th>\n",
              "      <th>cont6</th>\n",
              "      <th>cont7</th>\n",
              "      <th>cont8</th>\n",
              "      <th>cont9</th>\n",
              "      <th>cont10</th>\n",
              "      <th>cont11</th>\n",
              "      <th>cont12</th>\n",
              "      <th>cont13</th>\n",
              "      <th>target</th>\n",
              "    </tr>\n",
              "  </thead>\n",
              "  <tbody>\n",
              "    <tr>\n",
              "      <th>count</th>\n",
              "      <td>300000.000000</td>\n",
              "      <td>300000.000000</td>\n",
              "      <td>300000.000000</td>\n",
              "      <td>300000.000000</td>\n",
              "      <td>300000.000000</td>\n",
              "      <td>300000.000000</td>\n",
              "      <td>300000.000000</td>\n",
              "      <td>300000.000000</td>\n",
              "      <td>300000.000000</td>\n",
              "      <td>300000.000000</td>\n",
              "      <td>300000.000000</td>\n",
              "      <td>300000.000000</td>\n",
              "      <td>300000.000000</td>\n",
              "      <td>300000.000000</td>\n",
              "      <td>300000.000000</td>\n",
              "    </tr>\n",
              "    <tr>\n",
              "      <th>mean</th>\n",
              "      <td>0.527335</td>\n",
              "      <td>0.460926</td>\n",
              "      <td>0.490498</td>\n",
              "      <td>0.496689</td>\n",
              "      <td>0.491654</td>\n",
              "      <td>0.510526</td>\n",
              "      <td>0.467476</td>\n",
              "      <td>0.537119</td>\n",
              "      <td>0.498456</td>\n",
              "      <td>0.474872</td>\n",
              "      <td>0.474492</td>\n",
              "      <td>0.473216</td>\n",
              "      <td>0.494561</td>\n",
              "      <td>0.508273</td>\n",
              "      <td>8.241979</td>\n",
              "    </tr>\n",
              "    <tr>\n",
              "      <th>std</th>\n",
              "      <td>0.230599</td>\n",
              "      <td>0.214003</td>\n",
              "      <td>0.253346</td>\n",
              "      <td>0.219199</td>\n",
              "      <td>0.240074</td>\n",
              "      <td>0.228232</td>\n",
              "      <td>0.210331</td>\n",
              "      <td>0.218140</td>\n",
              "      <td>0.239920</td>\n",
              "      <td>0.218007</td>\n",
              "      <td>0.255949</td>\n",
              "      <td>0.222022</td>\n",
              "      <td>0.247292</td>\n",
              "      <td>0.222950</td>\n",
              "      <td>0.746555</td>\n",
              "    </tr>\n",
              "    <tr>\n",
              "      <th>min</th>\n",
              "      <td>-0.118039</td>\n",
              "      <td>-0.069309</td>\n",
              "      <td>-0.056104</td>\n",
              "      <td>0.130676</td>\n",
              "      <td>0.255908</td>\n",
              "      <td>0.045915</td>\n",
              "      <td>-0.224689</td>\n",
              "      <td>0.203763</td>\n",
              "      <td>-0.260275</td>\n",
              "      <td>0.117896</td>\n",
              "      <td>0.048732</td>\n",
              "      <td>0.052608</td>\n",
              "      <td>-0.074208</td>\n",
              "      <td>0.151050</td>\n",
              "      <td>0.140329</td>\n",
              "    </tr>\n",
              "    <tr>\n",
              "      <th>25%</th>\n",
              "      <td>0.405965</td>\n",
              "      <td>0.310494</td>\n",
              "      <td>0.300604</td>\n",
              "      <td>0.329783</td>\n",
              "      <td>0.284188</td>\n",
              "      <td>0.354141</td>\n",
              "      <td>0.342873</td>\n",
              "      <td>0.355825</td>\n",
              "      <td>0.332486</td>\n",
              "      <td>0.306874</td>\n",
              "      <td>0.276017</td>\n",
              "      <td>0.308151</td>\n",
              "      <td>0.289074</td>\n",
              "      <td>0.300669</td>\n",
              "      <td>7.742071</td>\n",
              "    </tr>\n",
              "    <tr>\n",
              "      <th>50%</th>\n",
              "      <td>0.497053</td>\n",
              "      <td>0.427903</td>\n",
              "      <td>0.502462</td>\n",
              "      <td>0.465026</td>\n",
              "      <td>0.390470</td>\n",
              "      <td>0.488865</td>\n",
              "      <td>0.429383</td>\n",
              "      <td>0.504661</td>\n",
              "      <td>0.439151</td>\n",
              "      <td>0.434620</td>\n",
              "      <td>0.459975</td>\n",
              "      <td>0.433812</td>\n",
              "      <td>0.422887</td>\n",
              "      <td>0.472400</td>\n",
              "      <td>8.191373</td>\n",
              "    </tr>\n",
              "    <tr>\n",
              "      <th>75%</th>\n",
              "      <td>0.668060</td>\n",
              "      <td>0.615113</td>\n",
              "      <td>0.647512</td>\n",
              "      <td>0.664451</td>\n",
              "      <td>0.696599</td>\n",
              "      <td>0.669625</td>\n",
              "      <td>0.573383</td>\n",
              "      <td>0.703441</td>\n",
              "      <td>0.606056</td>\n",
              "      <td>0.614333</td>\n",
              "      <td>0.691579</td>\n",
              "      <td>0.642057</td>\n",
              "      <td>0.714502</td>\n",
              "      <td>0.758447</td>\n",
              "      <td>8.728634</td>\n",
              "    </tr>\n",
              "    <tr>\n",
              "      <th>max</th>\n",
              "      <td>1.058443</td>\n",
              "      <td>0.887253</td>\n",
              "      <td>1.034704</td>\n",
              "      <td>1.039560</td>\n",
              "      <td>1.055424</td>\n",
              "      <td>1.067649</td>\n",
              "      <td>1.111552</td>\n",
              "      <td>1.032837</td>\n",
              "      <td>1.040229</td>\n",
              "      <td>0.982922</td>\n",
              "      <td>1.055960</td>\n",
              "      <td>1.071444</td>\n",
              "      <td>0.975035</td>\n",
              "      <td>0.905992</td>\n",
              "      <td>10.411992</td>\n",
              "    </tr>\n",
              "  </tbody>\n",
              "</table>\n",
              "</div>"
            ],
            "text/plain": [
              "               cont0          cont1  ...         cont13         target\n",
              "count  300000.000000  300000.000000  ...  300000.000000  300000.000000\n",
              "mean        0.527335       0.460926  ...       0.508273       8.241979\n",
              "std         0.230599       0.214003  ...       0.222950       0.746555\n",
              "min        -0.118039      -0.069309  ...       0.151050       0.140329\n",
              "25%         0.405965       0.310494  ...       0.300669       7.742071\n",
              "50%         0.497053       0.427903  ...       0.472400       8.191373\n",
              "75%         0.668060       0.615113  ...       0.758447       8.728634\n",
              "max         1.058443       0.887253  ...       0.905992      10.411992\n",
              "\n",
              "[8 rows x 15 columns]"
            ]
          },
          "metadata": {},
          "execution_count": 11
        }
      ]
    },
    {
      "cell_type": "code",
      "metadata": {
        "id": "ETHGGDwxw-Zk"
      },
      "source": [
        "def plot_corr(df):\n",
        "    \"\"\"Plotting correlation for a given dataframe.\"\n",
        "\n",
        "    Args:\n",
        "        df (dataframe): get the plot for the correlation\n",
        "    \"\"\"\n",
        "    plt.figure(figsize=(15,15))\n",
        "    mask = np.triu(np.ones(df.corr().shape))\n",
        "    sns.heatmap(df.corr(), annot=True, mask=mask)\n",
        "\n",
        "\n",
        "def count_plots_cat(df, num_rows=ceil(len(cat_cnames)/2),num_cols =2 , col_names=cat_cnames):\n",
        "    \"\"\"plotting the value counts for categorical variables\n",
        "\n",
        "    Args:\n",
        "        df (dataframe): dataframe\n",
        "        num_rows (int, optional): Number of rows for the ploat. Defaults to ceil(len(cat_cnames)/2).\n",
        "        num_cols (int, optional): Number of columns for the plotting. Defaults to 2.\n",
        "        col_names (list, optional): the categorical column names. Defaults to cat_cnames.\n",
        "    \"\"\"\n",
        "    fix, axes = plt.subplots(nrows=num_rows, ncols=num_cols, figsize=(15,30))\n",
        "    axes = axes.ravel()\n",
        "    for i in range(len(col_names)):\n",
        "        col = col_names[i]\n",
        "        sns.countplot(df[col], ax=axes[i]);\n",
        "        axes[i].set_title(f\"{col} Distribution\");\n",
        "        axes[i].set_yticklabels([]) # removing labels\n",
        "        axes[i].set_yticks([]) # removign ticks\n",
        "        axes[i].set_ylabel(\"PCT %\")\n",
        "        # removing borders \n",
        "        axes[i].spines['top'].set_visible(False)\n",
        "        axes[i].spines['right'].set_visible(False)\n",
        "        axes[i].spines['bottom'].set_visible(False)\n",
        "        axes[i].spines['left'].set_visible(False)\n",
        "        # showing values in plot\n",
        "        for patch in axes[i].patches:\n",
        "            # get the height of the patch\n",
        "            h = patch.get_height()\n",
        "            axes[i].text(patch.get_x()+patch.get_width()/2,\n",
        "                        h+8,'{:.2f}%'.format(h*100/len(df)),\n",
        "                    fontsize = 12,ha = 'center')\n",
        "\n",
        "\n"
      ],
      "execution_count": 12,
      "outputs": []
    },
    {
      "cell_type": "code",
      "metadata": {
        "id": "7HOoAW13w-Zl"
      },
      "source": [
        "plot_corr(df)"
      ],
      "execution_count": null,
      "outputs": []
    },
    {
      "cell_type": "code",
      "metadata": {
        "id": "WR-uFsqQw-Zl"
      },
      "source": [
        "count_plots_cat(df)"
      ],
      "execution_count": null,
      "outputs": []
    },
    {
      "cell_type": "code",
      "metadata": {
        "id": "ogLYeCbgw-Zq"
      },
      "source": [
        ""
      ],
      "execution_count": null,
      "outputs": []
    },
    {
      "cell_type": "code",
      "metadata": {
        "id": "0aKj-iPkw-Zq"
      },
      "source": [
        ""
      ],
      "execution_count": null,
      "outputs": []
    },
    {
      "cell_type": "code",
      "metadata": {
        "id": "K_qPuesAw-Zr"
      },
      "source": [
        ""
      ],
      "execution_count": null,
      "outputs": []
    },
    {
      "cell_type": "markdown",
      "metadata": {
        "id": "p2a1CQOTw-Zr"
      },
      "source": [
        "## Modeling"
      ]
    },
    {
      "cell_type": "code",
      "metadata": {
        "id": "N4tYS9PyRCNH"
      },
      "source": [
        "def output_submission(prediction, file_name):\n",
        "    \"\"\"creating a kaggle submission file\n",
        "\n",
        "    Args:\n",
        "        prediction (array): an array of predictions of the test dataset\n",
        "        file_name (string): a string for the name without the extension\n",
        "    \"\"\"\n",
        "    my_submission = pd.DataFrame({'target': prediction},\n",
        "                                 index=X_test.index)\n",
        "    #my_submission.set_index('id')\n",
        "    file_path = os.path.join(OUTPUT_PATH,file_name)\n",
        "    my_submission.to_csv(f'{file_path}.csv')\n",
        "    print(f'A submission file has been made at {file_path}')"
      ],
      "execution_count": 70,
      "outputs": []
    },
    {
      "cell_type": "code",
      "metadata": {
        "id": "Bu77wiAnw-Zr"
      },
      "source": [
        "X_train, X_valid, y_train, y_valid = train_test_split(X, y, test_size = 0.2, random_state=0)"
      ],
      "execution_count": 13,
      "outputs": []
    },
    {
      "cell_type": "code",
      "metadata": {
        "id": "nGBlN5xFw-Zr"
      },
      "source": [
        "xgb_params = {\n",
        "        'learning_rate': 0.03628302216953097,\n",
        "        'subsample': 0.7875490025178,\n",
        "        'colsample_bytree': 0.11807135201147,\n",
        "        'max_depth': 3,\n",
        "        'booster': 'gbtree', \n",
        "        'reg_lambda': 0.0008746338866473539,\n",
        "        'reg_alpha': 23.13181079976304,\n",
        "        'random_state':0,\n",
        "        'n_estimators':10000\n",
        "        \n",
        "        \n",
        "    }\n",
        "    \n",
        "model= XGBRegressor(**xgb_params,\n",
        "                    objective='reg:squarederror')\n",
        "\n",
        "preprocessor = ColumnTransformer(transformers=[\n",
        "    ('cat', OrdinalEncoder(), cat_cnames),\n",
        "], remainder='passthrough')\n",
        "\n",
        "\n",
        "xgb_pipeline = Pipeline(steps=[\n",
        "    ('prep', preprocessor),\n",
        "    ('model', model)\n",
        "])"
      ],
      "execution_count": 22,
      "outputs": []
    },
    {
      "cell_type": "code",
      "metadata": {
        "id": "yXYhwozRw-Zs",
        "colab": {
          "base_uri": "https://localhost:8080/"
        },
        "outputId": "04bd7a9f-1b98-49e6-bd85-e391fd943cda"
      },
      "source": [
        "xgb_pipeline.fit(X_train, y_train)"
      ],
      "execution_count": 23,
      "outputs": [
        {
          "output_type": "execute_result",
          "data": {
            "text/plain": [
              "Pipeline(memory=None,\n",
              "         steps=[('prep',\n",
              "                 ColumnTransformer(n_jobs=None, remainder='passthrough',\n",
              "                                   sparse_threshold=0.3,\n",
              "                                   transformer_weights=None,\n",
              "                                   transformers=[('cat',\n",
              "                                                  OrdinalEncoder(categories='auto',\n",
              "                                                                 dtype=<class 'numpy.float64'>),\n",
              "                                                  ['cat0', 'cat1', 'cat2',\n",
              "                                                   'cat3', 'cat4', 'cat5',\n",
              "                                                   'cat6', 'cat7', 'cat8',\n",
              "                                                   'cat9'])],\n",
              "                                   verbose=False)),\n",
              "                ('model',\n",
              "                 XGBRegressor(base_score=0.5, boo...\n",
              "                              importance_type='gain',\n",
              "                              learning_rate=0.03628302216953097,\n",
              "                              max_delta_step=0, max_depth=3, min_child_weight=1,\n",
              "                              missing=None, n_estimators=10000, n_jobs=1,\n",
              "                              nthread=None, objective='reg:squarederror',\n",
              "                              random_state=0, reg_alpha=23.13181079976304,\n",
              "                              reg_lambda=0.0008746338866473539,\n",
              "                              scale_pos_weight=1, seed=None, silent=None,\n",
              "                              subsample=0.7875490025178, verbosity=1))],\n",
              "         verbose=False)"
            ]
          },
          "metadata": {},
          "execution_count": 23
        }
      ]
    },
    {
      "cell_type": "code",
      "metadata": {
        "id": "TK3ASveuw-Zs"
      },
      "source": [
        "def model_eval(model, X_v, y_v):\n",
        "    predictions = model.predict(X_v)\n",
        "    rmse = mean_squared_error(y_v, predictions)**0.5\n",
        "    print(f\"RMSE: {rmse}\")\n",
        "    return rmse\n",
        "    \n",
        "    "
      ],
      "execution_count": 24,
      "outputs": []
    },
    {
      "cell_type": "code",
      "metadata": {
        "id": "4g6XFstaw-Zs",
        "colab": {
          "base_uri": "https://localhost:8080/"
        },
        "outputId": "c3620dfb-bf42-43b7-f72c-d962f2533902"
      },
      "source": [
        "# predictions = xgb_pipeline.predict(X_valid)\n",
        "# rmse = mean_squared_error(y_valid, predictions)**0.5\n",
        "rmse = model_eval(xgb_pipeline, X_valid, y_valid)"
      ],
      "execution_count": 33,
      "outputs": [
        {
          "output_type": "stream",
          "name": "stdout",
          "text": [
            "RMSE: 0.7184398773202069\n"
          ]
        }
      ]
    },
    {
      "cell_type": "code",
      "metadata": {
        "id": "NRGEqLI5w-Zs",
        "colab": {
          "base_uri": "https://localhost:8080/"
        },
        "outputId": "04cf1b1d-fcd1-4242-fb68-9df968251079"
      },
      "source": [
        "xgb_pipeline['model'].feature_importances_"
      ],
      "execution_count": 27,
      "outputs": [
        {
          "output_type": "execute_result",
          "data": {
            "text/plain": [
              "array([0.00948562, 0.08217142, 0.00720633, 0.01156965, 0.00326275,\n",
              "       0.00917876, 0.00386571, 0.00374016, 0.04286325, 0.01097175,\n",
              "       0.03351942, 0.02708367, 0.075363  , 0.04352359, 0.04758358,\n",
              "       0.04855086, 0.02635011, 0.06044033, 0.0313333 , 0.07980752,\n",
              "       0.12869087, 0.04524225, 0.12788007, 0.04031598], dtype=float32)"
            ]
          },
          "metadata": {},
          "execution_count": 27
        }
      ]
    },
    {
      "cell_type": "code",
      "metadata": {
        "id": "Ogs2dKr3w-Zt",
        "colab": {
          "base_uri": "https://localhost:8080/"
        },
        "outputId": "14ea51e8-003b-4029-8e72-dbdb93ca745f"
      },
      "source": [
        "\n",
        "feature_importance = xgb_pipeline['model'].feature_importances_\n",
        "print(\"Feature Importances\")\n",
        "least_importance = {}\n",
        "for cname, importance in zip(X.columns, feature_importance):\n",
        "    print(f\"{cname}: {importance:0.4f}\")\n",
        "    if importance < 0.005:\n",
        "        least_importance[cname] = importance\n",
        "print('\\n',least_importance)\n"
      ],
      "execution_count": 31,
      "outputs": [
        {
          "output_type": "stream",
          "name": "stdout",
          "text": [
            "Feature Importances\n",
            "cat0: 0.0095\n",
            "cat1: 0.0822\n",
            "cat2: 0.0072\n",
            "cat3: 0.0116\n",
            "cat4: 0.0033\n",
            "cat5: 0.0092\n",
            "cat6: 0.0039\n",
            "cat7: 0.0037\n",
            "cat8: 0.0429\n",
            "cat9: 0.0110\n",
            "cont0: 0.0335\n",
            "cont1: 0.0271\n",
            "cont2: 0.0754\n",
            "cont3: 0.0435\n",
            "cont4: 0.0476\n",
            "cont5: 0.0486\n",
            "cont6: 0.0264\n",
            "cont7: 0.0604\n",
            "cont8: 0.0313\n",
            "cont9: 0.0798\n",
            "cont10: 0.1287\n",
            "cont11: 0.0452\n",
            "cont12: 0.1279\n",
            "cont13: 0.0403\n",
            "\n",
            " {'cat4': 0.0032627492, 'cat6': 0.0038657056, 'cat7': 0.0037401589}\n"
          ]
        }
      ]
    },
    {
      "cell_type": "code",
      "metadata": {
        "id": "71E05FEnw-Zt"
      },
      "source": [
        "def plot_importances(pipeline, col_names):\n",
        "    feature_importance = pipeline['model'].feature_importances_\n",
        "\n",
        "    plt.figure(figsize=(12,15))\n",
        "    plt.barh(col_names, feature_importance)\n",
        "    plt.title(f\"Feature Importances\")\n",
        "    plt.xlabel(\"Feature Importance\")"
      ],
      "execution_count": 35,
      "outputs": []
    },
    {
      "cell_type": "code",
      "metadata": {
        "colab": {
          "base_uri": "https://localhost:8080/",
          "height": 893
        },
        "id": "uYvvdiJjJSiZ",
        "outputId": "a5b6ce17-f430-47cd-bd1d-1549cc97fd8b"
      },
      "source": [
        "plot_importances(xgb_pipeline, X.columns)"
      ],
      "execution_count": 36,
      "outputs": [
        {
          "output_type": "display_data",
          "data": {
            "image/png": "[encoded data removed]",
            "text/plain": [
              "<Figure size 864x1080 with 1 Axes>"
            ]
          },
          "metadata": {
            "needs_background": "light"
          }
        }
      ]
    },
    {
      "cell_type": "markdown",
      "metadata": {
        "id": "Q9kciyLDw-Zt"
      },
      "source": [
        "## Data change"
      ]
    },
    {
      "cell_type": "code",
      "metadata": {
        "id": "_czRhn-RJRvM"
      },
      "source": [
        ""
      ],
      "execution_count": null,
      "outputs": []
    },
    {
      "cell_type": "code",
      "metadata": {
        "id": "BtyNgCmyw-Zu",
        "colab": {
          "base_uri": "https://localhost:8080/"
        },
        "outputId": "1471b996-22ab-4c41-8331-f98639d8093b"
      },
      "source": [
        "y2 = df.target.copy()\n",
        "cols_to_drop = list(least_importance.keys())\n",
        "print(cols_to_drop)\n",
        "X2 = df.drop(cols_to_drop, axis=1).copy()\n",
        "X2.drop('target', axis=1, inplace=True)\n",
        "print(X.shape)\n",
        "X2_train, X2_valid, y2_train, y2_valid = train_test_split(X2, y2, test_size=0.2, random_state=0)"
      ],
      "execution_count": 48,
      "outputs": [
        {
          "output_type": "stream",
          "name": "stdout",
          "text": [
            "['cat4', 'cat6', 'cat7']\n",
            "(300000, 24)\n"
          ]
        }
      ]
    },
    {
      "cell_type": "code",
      "metadata": {
        "id": "122CYO7-w-Zu",
        "colab": {
          "base_uri": "https://localhost:8080/"
        },
        "outputId": "b92205d2-65d8-45ca-fa9a-056f106888b7"
      },
      "source": [
        "X2_train.shape"
      ],
      "execution_count": 50,
      "outputs": [
        {
          "output_type": "execute_result",
          "data": {
            "text/plain": [
              "(240000, 21)"
            ]
          },
          "metadata": {},
          "execution_count": 50
        }
      ]
    },
    {
      "cell_type": "code",
      "metadata": {
        "id": "vCcGSNCWw-Zu",
        "colab": {
          "base_uri": "https://localhost:8080/"
        },
        "outputId": "12e02080-b8b1-44b8-d567-5bb4fcae30eb"
      },
      "source": [
        "num_cnames2 = create_num_cols(X2)\n",
        "cat_cnames2 = create_cat_cols(X2)\n",
        "print(cat_cnames2)\n",
        "print(num_cnames2)"
      ],
      "execution_count": 53,
      "outputs": [
        {
          "output_type": "stream",
          "name": "stdout",
          "text": [
            "['cat0', 'cat1', 'cat2', 'cat3', 'cat5', 'cat8', 'cat9']\n",
            "['cont0', 'cont1', 'cont2', 'cont3', 'cont4', 'cont5', 'cont6', 'cont7', 'cont8', 'cont9', 'cont10', 'cont11', 'cont12', 'cont13']\n"
          ]
        }
      ]
    },
    {
      "cell_type": "code",
      "metadata": {
        "id": "vunI7D55w-Zu"
      },
      "source": [
        "preprocessor2 = ColumnTransformer([\n",
        "    ('num', StandardScaler(), num_cnames2),\n",
        "    ('cat', OrdinalEncoder(), cat_cnames2)\n",
        "], remainder='passthrough')\n",
        "\n",
        "pipe02 = Pipeline(steps=[\n",
        "    ('preprocessor2', preprocessor2),\n",
        "    ('model', model)\n",
        "])"
      ],
      "execution_count": 57,
      "outputs": []
    },
    {
      "cell_type": "code",
      "metadata": {
        "id": "yFgwZq9Sw-Zv",
        "colab": {
          "base_uri": "https://localhost:8080/"
        },
        "outputId": "5078d2fe-8317-4d84-df9d-62327451951f"
      },
      "source": [
        "# evaluation\n",
        "pipe02.fit(X2_train, y2_train)\n",
        "rmse02 = model_eval(pipe02, X2_valid, y2_valid)"
      ],
      "execution_count": 59,
      "outputs": [
        {
          "output_type": "execute_result",
          "data": {
            "text/plain": [
              "Pipeline(memory=None,\n",
              "         steps=[('preprocessor2',\n",
              "                 ColumnTransformer(n_jobs=None, remainder='passthrough',\n",
              "                                   sparse_threshold=0.3,\n",
              "                                   transformer_weights=None,\n",
              "                                   transformers=[('num',\n",
              "                                                  StandardScaler(copy=True,\n",
              "                                                                 with_mean=True,\n",
              "                                                                 with_std=True),\n",
              "                                                  ['cont0', 'cont1', 'cont2',\n",
              "                                                   'cont3', 'cont4', 'cont5',\n",
              "                                                   'cont6', 'cont7', 'cont8',\n",
              "                                                   'cont9', 'cont10', 'cont11',\n",
              "                                                   'cont12', 'cont13']),\n",
              "                                                 ('cat',\n",
              "                                                  Ord...\n",
              "                              importance_type='gain',\n",
              "                              learning_rate=0.03628302216953097,\n",
              "                              max_delta_step=0, max_depth=3, min_child_weight=1,\n",
              "                              missing=None, n_estimators=10000, n_jobs=1,\n",
              "                              nthread=None, objective='reg:squarederror',\n",
              "                              random_state=0, reg_alpha=23.13181079976304,\n",
              "                              reg_lambda=0.0008746338866473539,\n",
              "                              scale_pos_weight=1, seed=None, silent=None,\n",
              "                              subsample=0.7875490025178, verbosity=1))],\n",
              "         verbose=False)"
            ]
          },
          "metadata": {},
          "execution_count": 59
        }
      ]
    },
    {
      "cell_type": "code",
      "metadata": {
        "colab": {
          "base_uri": "https://localhost:8080/",
          "height": 893
        },
        "id": "fbR8p3VqMWII",
        "outputId": "f7f48760-de54-456e-e8b7-b678c8c9c5a5"
      },
      "source": [
        "plot_importances(pipe02, X2.columns)"
      ],
      "execution_count": 73,
      "outputs": [
        {
          "output_type": "display_data",
          "data": {
            "image/png": "[encoded data removed]",
            "text/plain": [
              "<Figure size 864x1080 with 1 Axes>"
            ]
          },
          "metadata": {
            "needs_background": "light"
          }
        }
      ]
    },
    {
      "cell_type": "code",
      "metadata": {
        "colab": {
          "base_uri": "https://localhost:8080/"
        },
        "id": "bRw4WJZNminT",
        "outputId": "8f6bfd74-ab1d-4479-842e-149510b115cc"
      },
      "source": [
        "low_importances = {}\n",
        "importances02 = pipe02['model'].feature_importances_\n",
        "\n",
        "for cname, importance in zip(X2.columns, importances02):\n",
        "    print(f\"{cname}: {importance}\")\n",
        "    if importance < 0.01:\n",
        "        low_importances[cname] = importance\n",
        "\n",
        "print(\"\\n\", low_importances)"
      ],
      "execution_count": 75,
      "outputs": [
        {
          "output_type": "stream",
          "name": "stdout",
          "text": [
            "cat0: 0.03424811735749245\n",
            "cat1: 0.025887954980134964\n",
            "cat2: 0.07104084640741348\n",
            "cat3: 0.04090540483593941\n",
            "cat5: 0.04617612808942795\n",
            "cat8: 0.04993564262986183\n",
            "cat9: 0.02459382452070713\n",
            "cont0: 0.060116540640592575\n",
            "cont1: 0.030266044661402702\n",
            "cont2: 0.07660751789808273\n",
            "cont3: 0.1227099820971489\n",
            "cont4: 0.04453575238585472\n",
            "cont5: 0.13188880681991577\n",
            "cont6: 0.03985213860869408\n",
            "cont7: 0.009750093333423138\n",
            "cont8: 0.11015648394823074\n",
            "cont9: 0.007476001046597958\n",
            "cont10: 0.01155666634440422\n",
            "cont11: 0.011338609270751476\n",
            "cont12: 0.03931260108947754\n",
            "cont13: 0.011644767597317696\n",
            "\n",
            " {'cont7': 0.009750093, 'cont9': 0.007476001}\n"
          ]
        }
      ]
    },
    {
      "cell_type": "code",
      "metadata": {
        "id": "RqRE6vRVw-Zw",
        "colab": {
          "base_uri": "https://localhost:8080/"
        },
        "outputId": "df387303-0ad8-4ead-cf60-bf11fd3ab2bb"
      },
      "source": [
        "pipe02.fit(X2, y2)\n",
        "X2_test = X_test.drop(cols_to_drop, axis=1).copy()\n",
        "preds02 = pipe02.predict(X2_test)\n",
        "output_submission(preds02, \"submission807\")\n"
      ],
      "execution_count": 72,
      "outputs": [
        {
          "output_type": "stream",
          "name": "stdout",
          "text": [
            "A submission file has been made at /content/drive/MyDrive/30-days-of-ml-competition1/output/submission807\n"
          ]
        }
      ]
    },
    {
      "cell_type": "code",
      "metadata": {
        "id": "JqCyyP0iw-Zw",
        "colab": {
          "base_uri": "https://localhost:8080/"
        },
        "outputId": "c0152ce3-7057-4c8c-d94f-8d28d78dc6c7"
      },
      "source": [
        "pipe02"
      ],
      "execution_count": 91,
      "outputs": [
        {
          "output_type": "execute_result",
          "data": {
            "text/plain": [
              "Pipeline(memory=None,\n",
              "         steps=[('preprocessor2',\n",
              "                 ColumnTransformer(n_jobs=None, remainder='passthrough',\n",
              "                                   sparse_threshold=0.3,\n",
              "                                   transformer_weights=None,\n",
              "                                   transformers=[('num',\n",
              "                                                  StandardScaler(copy=True,\n",
              "                                                                 with_mean=True,\n",
              "                                                                 with_std=True),\n",
              "                                                  ['cont0', 'cont1', 'cont2',\n",
              "                                                   'cont3', 'cont4', 'cont5',\n",
              "                                                   'cont6', 'cont7', 'cont8',\n",
              "                                                   'cont9', 'cont10', 'cont11',\n",
              "                                                   'cont12', 'cont13']),\n",
              "                                                 ('cat',\n",
              "                                                  Ord...\n",
              "                              importance_type='gain',\n",
              "                              learning_rate=0.03628302216953097,\n",
              "                              max_delta_step=0, max_depth=3, min_child_weight=1,\n",
              "                              missing=None, n_estimators=10000, n_jobs=1,\n",
              "                              nthread=None, objective='reg:squarederror',\n",
              "                              random_state=0, reg_alpha=23.13181079976304,\n",
              "                              reg_lambda=0.0008746338866473539,\n",
              "                              scale_pos_weight=1, seed=None, silent=None,\n",
              "                              subsample=0.7875490025178, verbosity=1))],\n",
              "         verbose=False)"
            ]
          },
          "metadata": {},
          "execution_count": 91
        }
      ]
    },
    {
      "cell_type": "code",
      "metadata": {
        "id": "7LX8GiUVw-Zx"
      },
      "source": [
        "## Removing columns with very low importance"
      ],
      "execution_count": 76,
      "outputs": []
    },
    {
      "cell_type": "code",
      "metadata": {
        "id": "UHiaQZvct_iH"
      },
      "source": [
        ""
      ],
      "execution_count": null,
      "outputs": []
    }
  ]
}