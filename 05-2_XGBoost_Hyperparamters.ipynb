{
  "nbformat": 4,
  "nbformat_minor": 2,
  "metadata": {
    "orig_nbformat": 4,
    "language_info": {
      "name": "python",
      "version": "3.7.6",
      "mimetype": "text/x-python",
      "codemirror_mode": {
        "name": "ipython",
        "version": 3
      },
      "pygments_lexer": "ipython3",
      "nbconvert_exporter": "python",
      "file_extension": ".py"
    },
    "kernelspec": {
      "name": "python3",
      "display_name": "Python 3.7.6 64-bit ('base': conda)"
    },
    "interpreter": {
      "hash": "016f416f43c7de9d71e7f049375c6b8b903fae571cb02d2ed6c16dadea121115"
    },
    "colab": {
      "name": "05-XGBoost Hyperparamters.ipynb",
      "provenance": [],
      "collapsed_sections": []
    }
  },
  "cells": [
    {
      "cell_type": "markdown",
      "source": [
        "# Model 5-2\n",
        "Hyperparameter tuning for XGBoost Exploring hyper paramaters further. \n",
        "<li> Changing scoring to rmse</li>\n",
        "<li> Without Standard Scaler</li>\n",
        "<li> Removing values with low frequency\n",
        "\n",
        "## Restult\n",
        "Best Model:\n",
        "<code>\n",
        "\n",
        "XGBRegressor(base_score=0.5, booster='gbtree', colsample_bylevel=1,\n",
        "             colsample_bynode=1, colsample_bytree=1, gamma=0, gpu_id=-1,\n",
        "             importance_type='gain', interaction_constraints='',\n",
        "             learning_rate=0.05, max_delta_step=0, max_depth=3,\n",
        "             min_child_weight=1, missing=nan, monotone_constraints='()',\n",
        "             n_estimators=1500, n_jobs=0, num_parallel_tree=1,\n",
        "             objective='reg:squarederror', random_state=1, reg_alpha=0,\n",
        "             reg_lambda=1, scale_pos_weight=1, subsample=1, tree_method='exact',\n",
        "             validate_parameters=1, verbosity=None)\n",
        "</code >\n",
        "\n",
        "## Future:\n",
        "using the same parameters while the numerical data is standrdaized"
      ],
      "metadata": {}
    },
    {
      "cell_type": "code",
      "execution_count": 1,
      "source": [
        "# reading data from google drive \n",
        "# data paths whether notebook is run locally or google colab\n",
        "import os\n",
        "try:\n",
        "    from google.colab import drive\n",
        "    drive.mount('/content/drive')\n",
        "    COMPETETION_PATH = \"/content/drive/MyDrive/30-days-of-ml-competition1\"\n",
        "    TRAIN_DATA_PATH = \"/content/drive/MyDrive/30-days-of-ml-competition1/data/train.csv\"\n",
        "    TEST_DATA_PATH = \"/content/drive/MyDrive/30-days-of-ml-competition1/data/test.csv\"\n",
        "    OUTPUT_PATH = \"/content/drive/MyDrive/30-days-of-ml-competition1/output\"\n",
        "except:\n",
        "    TRAIN_DATA_PATH = os.path.join(\"data\", \"train.csv\")\n",
        "    TEST_DATA_PATH = os.path.join(\"data\", \"test.csv\")\n",
        "\n",
        "print(f\"Training Path {TRAIN_DATA_PATH}\")\n",
        "print(f\"Testing Path {TEST_DATA_PATH}\")\n",
        "\n"
      ],
      "outputs": [
        {
          "output_type": "stream",
          "name": "stdout",
          "text": [
            "Training Path data/train.csv\n",
            "Testing Path data/test.csv\n"
          ]
        }
      ],
      "metadata": {
        "colab": {
          "base_uri": "https://localhost:8080/"
        },
        "id": "FeZXk9xlGyYa",
        "outputId": "3ce477bc-c49f-402b-a292-7b1e3b5f6860"
      }
    },
    {
      "cell_type": "code",
      "execution_count": 42,
      "source": [
        "\n",
        "# library imports\n",
        "import numpy as np \n",
        "import pandas as pd \n",
        "import matplotlib.pyplot as plt\n",
        "\n",
        "# preprocessing\n",
        "from sklearn.model_selection import train_test_split, cross_val_score\n",
        "from sklearn.model_selection import GridSearchCV\n",
        "from sklearn.impute import SimpleImputer\n",
        "from sklearn.preprocessing import StandardScaler, OneHotEncoder, OrdinalEncoder\n",
        "from sklearn.pipeline import Pipeline\n",
        "from sklearn.compose import ColumnTransformer\n",
        "\n",
        "# modeling\n",
        "from sklearn.ensemble import RandomForestRegressor\n",
        "from xgboost import XGBRegressor\n",
        "\n",
        "# evaluation\n",
        "from sklearn.metrics import mean_absolute_error, mean_squared_error"
      ],
      "outputs": [],
      "metadata": {
        "id": "RWEQJbdUWEyJ"
      }
    },
    {
      "cell_type": "code",
      "execution_count": 3,
      "source": [
        "def read_organise_data(train=TRAIN_DATA_PATH):\n",
        "    \"\"\"read the data from a path and splitting to features and target\n",
        "\n",
        "    Args:\n",
        "        train (path, optional): The path of training data file to. Defaults to TRAIN_DATA_PATH.\n",
        "\n",
        "    Returns:\n",
        "        X, y: X for features and y for target\n",
        "    \"\"\"\n",
        "    full_df = pd.read_csv(train, index_col=\"id\")\n",
        "    print(f\"Shape of Dataset: {full_df.shape}\")\n",
        "    return full_df\n",
        "\n",
        "df= read_organise_data()\n",
        "X_test = pd.read_csv(TEST_DATA_PATH, index_col='id')\n",
        "print(f\"Shape of Test set {X_test.shape}\")"
      ],
      "outputs": [
        {
          "output_type": "stream",
          "name": "stdout",
          "text": [
            "Shape of Dataset: (300000, 25)\n",
            "Shape of Test set (200000, 24)\n"
          ]
        }
      ],
      "metadata": {
        "colab": {
          "base_uri": "https://localhost:8080/"
        },
        "id": "EU2jthoy9Cm6",
        "outputId": "a4b3898d-790c-4fea-9aa1-6a5fd49e6813"
      }
    },
    {
      "cell_type": "code",
      "execution_count": 18,
      "source": [
        "df = df[(df.target >=6.9) & (df.target <=10.4)]"
      ],
      "outputs": [],
      "metadata": {}
    },
    {
      "cell_type": "markdown",
      "source": [
        "## Understanding Data"
      ],
      "metadata": {
        "id": "QIQ6r3X1WEyK"
      }
    },
    {
      "cell_type": "code",
      "execution_count": 20,
      "source": [
        "df.describe()"
      ],
      "outputs": [
        {
          "output_type": "execute_result",
          "data": {
            "text/plain": [
              "               cont0          cont1          cont2          cont3  \\\n",
              "count  298733.000000  298733.000000  298733.000000  298733.000000   \n",
              "mean        0.527292       0.460916       0.490553       0.496645   \n",
              "std         0.230592       0.213986       0.253324       0.219218   \n",
              "min        -0.118039      -0.069309      -0.056104       0.130676   \n",
              "25%         0.405954       0.310495       0.300645       0.329638   \n",
              "50%         0.496993       0.427897       0.502511       0.464997   \n",
              "75%         0.667947       0.615112       0.647567       0.664358   \n",
              "max         1.058443       0.887253       1.034704       1.039560   \n",
              "\n",
              "               cont4          cont5          cont6          cont7  \\\n",
              "count  298733.000000  298733.000000  298733.000000  298733.000000   \n",
              "mean        0.491624       0.510447       0.467461       0.537085   \n",
              "std         0.240082       0.228247       0.210319       0.218137   \n",
              "min         0.255908       0.045915      -0.224689       0.203763   \n",
              "25%         0.284184       0.354081       0.342862       0.355795   \n",
              "50%         0.389902       0.488621       0.429360       0.504616   \n",
              "75%         0.696626       0.669576       0.573358       0.703385   \n",
              "max         1.055424       1.067649       1.111552       1.032837   \n",
              "\n",
              "               cont8          cont9         cont10         cont11  \\\n",
              "count  298733.000000  298733.000000  298733.000000  298733.000000   \n",
              "mean        0.498391       0.474778       0.474391       0.473164   \n",
              "std         0.239944       0.218001       0.255933       0.222018   \n",
              "min        -0.260275       0.117896       0.048732       0.052608   \n",
              "25%         0.332398       0.306736       0.275909       0.308128   \n",
              "50%         0.439015       0.434521       0.459798       0.433767   \n",
              "75%         0.606037       0.614035       0.691529       0.642004   \n",
              "max         1.040229       0.982922       1.055960       1.071444   \n",
              "\n",
              "              cont12         cont13         target  \n",
              "count  298733.000000  298733.000000  298733.000000  \n",
              "mean        0.494528       0.508267       8.244174  \n",
              "std         0.247283       0.222965       0.728895  \n",
              "min        -0.074208       0.151050       6.903415  \n",
              "25%         0.289074       0.300663       7.746106  \n",
              "50%         0.422836       0.472390       8.191958  \n",
              "75%         0.714415       0.758453       8.726105  \n",
              "max         0.975035       0.905992      10.399988  "
            ],
            "text/html": [
              "<div>\n",
              "<style scoped>\n",
              "    .dataframe tbody tr th:only-of-type {\n",
              "        vertical-align: middle;\n",
              "    }\n",
              "\n",
              "    .dataframe tbody tr th {\n",
              "        vertical-align: top;\n",
              "    }\n",
              "\n",
              "    .dataframe thead th {\n",
              "        text-align: right;\n",
              "    }\n",
              "</style>\n",
              "<table border=\"1\" class=\"dataframe\">\n",
              "  <thead>\n",
              "    <tr style=\"text-align: right;\">\n",
              "      <th></th>\n",
              "      <th>cont0</th>\n",
              "      <th>cont1</th>\n",
              "      <th>cont2</th>\n",
              "      <th>cont3</th>\n",
              "      <th>cont4</th>\n",
              "      <th>cont5</th>\n",
              "      <th>cont6</th>\n",
              "      <th>cont7</th>\n",
              "      <th>cont8</th>\n",
              "      <th>cont9</th>\n",
              "      <th>cont10</th>\n",
              "      <th>cont11</th>\n",
              "      <th>cont12</th>\n",
              "      <th>cont13</th>\n",
              "      <th>target</th>\n",
              "    </tr>\n",
              "  </thead>\n",
              "  <tbody>\n",
              "    <tr>\n",
              "      <th>count</th>\n",
              "      <td>298733.000000</td>\n",
              "      <td>298733.000000</td>\n",
              "      <td>298733.000000</td>\n",
              "      <td>298733.000000</td>\n",
              "      <td>298733.000000</td>\n",
              "      <td>298733.000000</td>\n",
              "      <td>298733.000000</td>\n",
              "      <td>298733.000000</td>\n",
              "      <td>298733.000000</td>\n",
              "      <td>298733.000000</td>\n",
              "      <td>298733.000000</td>\n",
              "      <td>298733.000000</td>\n",
              "      <td>298733.000000</td>\n",
              "      <td>298733.000000</td>\n",
              "      <td>298733.000000</td>\n",
              "    </tr>\n",
              "    <tr>\n",
              "      <th>mean</th>\n",
              "      <td>0.527292</td>\n",
              "      <td>0.460916</td>\n",
              "      <td>0.490553</td>\n",
              "      <td>0.496645</td>\n",
              "      <td>0.491624</td>\n",
              "      <td>0.510447</td>\n",
              "      <td>0.467461</td>\n",
              "      <td>0.537085</td>\n",
              "      <td>0.498391</td>\n",
              "      <td>0.474778</td>\n",
              "      <td>0.474391</td>\n",
              "      <td>0.473164</td>\n",
              "      <td>0.494528</td>\n",
              "      <td>0.508267</td>\n",
              "      <td>8.244174</td>\n",
              "    </tr>\n",
              "    <tr>\n",
              "      <th>std</th>\n",
              "      <td>0.230592</td>\n",
              "      <td>0.213986</td>\n",
              "      <td>0.253324</td>\n",
              "      <td>0.219218</td>\n",
              "      <td>0.240082</td>\n",
              "      <td>0.228247</td>\n",
              "      <td>0.210319</td>\n",
              "      <td>0.218137</td>\n",
              "      <td>0.239944</td>\n",
              "      <td>0.218001</td>\n",
              "      <td>0.255933</td>\n",
              "      <td>0.222018</td>\n",
              "      <td>0.247283</td>\n",
              "      <td>0.222965</td>\n",
              "      <td>0.728895</td>\n",
              "    </tr>\n",
              "    <tr>\n",
              "      <th>min</th>\n",
              "      <td>-0.118039</td>\n",
              "      <td>-0.069309</td>\n",
              "      <td>-0.056104</td>\n",
              "      <td>0.130676</td>\n",
              "      <td>0.255908</td>\n",
              "      <td>0.045915</td>\n",
              "      <td>-0.224689</td>\n",
              "      <td>0.203763</td>\n",
              "      <td>-0.260275</td>\n",
              "      <td>0.117896</td>\n",
              "      <td>0.048732</td>\n",
              "      <td>0.052608</td>\n",
              "      <td>-0.074208</td>\n",
              "      <td>0.151050</td>\n",
              "      <td>6.903415</td>\n",
              "    </tr>\n",
              "    <tr>\n",
              "      <th>25%</th>\n",
              "      <td>0.405954</td>\n",
              "      <td>0.310495</td>\n",
              "      <td>0.300645</td>\n",
              "      <td>0.329638</td>\n",
              "      <td>0.284184</td>\n",
              "      <td>0.354081</td>\n",
              "      <td>0.342862</td>\n",
              "      <td>0.355795</td>\n",
              "      <td>0.332398</td>\n",
              "      <td>0.306736</td>\n",
              "      <td>0.275909</td>\n",
              "      <td>0.308128</td>\n",
              "      <td>0.289074</td>\n",
              "      <td>0.300663</td>\n",
              "      <td>7.746106</td>\n",
              "    </tr>\n",
              "    <tr>\n",
              "      <th>50%</th>\n",
              "      <td>0.496993</td>\n",
              "      <td>0.427897</td>\n",
              "      <td>0.502511</td>\n",
              "      <td>0.464997</td>\n",
              "      <td>0.389902</td>\n",
              "      <td>0.488621</td>\n",
              "      <td>0.429360</td>\n",
              "      <td>0.504616</td>\n",
              "      <td>0.439015</td>\n",
              "      <td>0.434521</td>\n",
              "      <td>0.459798</td>\n",
              "      <td>0.433767</td>\n",
              "      <td>0.422836</td>\n",
              "      <td>0.472390</td>\n",
              "      <td>8.191958</td>\n",
              "    </tr>\n",
              "    <tr>\n",
              "      <th>75%</th>\n",
              "      <td>0.667947</td>\n",
              "      <td>0.615112</td>\n",
              "      <td>0.647567</td>\n",
              "      <td>0.664358</td>\n",
              "      <td>0.696626</td>\n",
              "      <td>0.669576</td>\n",
              "      <td>0.573358</td>\n",
              "      <td>0.703385</td>\n",
              "      <td>0.606037</td>\n",
              "      <td>0.614035</td>\n",
              "      <td>0.691529</td>\n",
              "      <td>0.642004</td>\n",
              "      <td>0.714415</td>\n",
              "      <td>0.758453</td>\n",
              "      <td>8.726105</td>\n",
              "    </tr>\n",
              "    <tr>\n",
              "      <th>max</th>\n",
              "      <td>1.058443</td>\n",
              "      <td>0.887253</td>\n",
              "      <td>1.034704</td>\n",
              "      <td>1.039560</td>\n",
              "      <td>1.055424</td>\n",
              "      <td>1.067649</td>\n",
              "      <td>1.111552</td>\n",
              "      <td>1.032837</td>\n",
              "      <td>1.040229</td>\n",
              "      <td>0.982922</td>\n",
              "      <td>1.055960</td>\n",
              "      <td>1.071444</td>\n",
              "      <td>0.975035</td>\n",
              "      <td>0.905992</td>\n",
              "      <td>10.399988</td>\n",
              "    </tr>\n",
              "  </tbody>\n",
              "</table>\n",
              "</div>"
            ]
          },
          "metadata": {},
          "execution_count": 20
        }
      ],
      "metadata": {
        "colab": {
          "base_uri": "https://localhost:8080/",
          "height": 297
        },
        "id": "DoPvYqELWEyM",
        "outputId": "8aee2f35-3b47-4332-91e6-7b6576a62d3e"
      }
    },
    {
      "cell_type": "code",
      "execution_count": 21,
      "source": [
        "# checking for null values in the full dataset\n",
        "df.isnull().any().sum() # no null value in dataset"
      ],
      "outputs": [
        {
          "output_type": "execute_result",
          "data": {
            "text/plain": [
              "0"
            ]
          },
          "metadata": {},
          "execution_count": 21
        }
      ],
      "metadata": {
        "colab": {
          "base_uri": "https://localhost:8080/"
        },
        "id": "kdF_WWKbWEyN",
        "outputId": "ce8a3de2-3b5c-4833-a0aa-5e1e79f733e4"
      }
    },
    {
      "cell_type": "code",
      "execution_count": 22,
      "source": [
        "y = df.target.copy()\n",
        "X = df.drop('target', axis=1).copy()"
      ],
      "outputs": [],
      "metadata": {
        "id": "zmCXXJzhWEyO"
      }
    },
    {
      "cell_type": "code",
      "execution_count": 29,
      "source": [
        "# splitting the data\n",
        "X_train, X_valid, y_train, y_valid = train_test_split(X,y, test_size=0.1,\n",
        "                                                      random_state= 42)"
      ],
      "outputs": [],
      "metadata": {
        "id": "5pNen2jpWEyP"
      }
    },
    {
      "cell_type": "code",
      "execution_count": 30,
      "source": [
        "# categorical columns start with cat\n",
        "categorical_cols = [cname for cname in X.columns if 'cat' in cname]\n",
        "# numerical columns starts with cont\n",
        "numerical_cols = [cname for cname in X.columns if 'cont' in cname]"
      ],
      "outputs": [],
      "metadata": {
        "id": "jfrTIecNWEyQ"
      }
    },
    {
      "cell_type": "code",
      "execution_count": 31,
      "source": [
        "\n",
        "# checking the cardinality of the categorical columns\n",
        "for cname in categorical_cols:\n",
        "    num_unique = X[cname].nunique()\n",
        "    print(f\"{cname} has {num_unique}\")\n",
        "    if num_unique > 10:\n",
        "        print(f\"\\t{cname} has a high cardinality\")\n",
        "\n",
        "# eventhough cat9 col has more than 10 unique values, we will still use the OnehotEncoder "
      ],
      "outputs": [
        {
          "output_type": "stream",
          "name": "stdout",
          "text": [
            "cat0 has 2\n",
            "cat1 has 2\n",
            "cat2 has 2\n",
            "cat3 has 4\n",
            "cat4 has 4\n",
            "cat5 has 4\n",
            "cat6 has 8\n",
            "cat7 has 8\n",
            "cat8 has 7\n",
            "cat9 has 15\n",
            "\tcat9 has a high cardinality\n"
          ]
        }
      ],
      "metadata": {
        "colab": {
          "base_uri": "https://localhost:8080/"
        },
        "id": "ulfq78dIWEyQ",
        "outputId": "4895337a-b3b1-4405-b9d7-79b31c1994a6"
      }
    },
    {
      "cell_type": "code",
      "execution_count": 32,
      "source": [
        "\n",
        "# not including numerical transformer\n",
        "# numerical and categorical transformations\n",
        "num_transformer = StandardScaler()\n",
        "cat_transformer = OrdinalEncoder()\n",
        "preprocessor = ColumnTransformer(transformers=[\n",
        "    ('cat', cat_transformer, categorical_cols),\n",
        "], remainder='passthrough')"
      ],
      "outputs": [],
      "metadata": {
        "id": "Y-1AbyL4Wh0o"
      }
    },
    {
      "cell_type": "code",
      "execution_count": 37,
      "source": [
        "def get_score(model, X_t=X_train, X_v=X_valid, y_t=y_train, y_v=y_valid):\n",
        "    my_pipeline = Pipeline(steps=[\n",
        "                                  ('preprocessor', preprocessor),\n",
        "                                  ('model', model)\n",
        "    ])\n",
        "    my_pipeline.fit(X_t, y_t)\n",
        "    preds = my_pipeline.predict(X_v)\n",
        "    return mean_squared_error(y_v, preds)\n",
        "    "
      ],
      "outputs": [],
      "metadata": {
        "id": "C-7_2QseWEyS"
      }
    },
    {
      "cell_type": "code",
      "execution_count": 43,
      "source": [
        "rmse_scores = {}\n",
        "n_estimators = [1350, 1400, 1500, 1600]\n",
        "for estimators in n_estimators:\n",
        "    xgb_model = XGBRegressor(n_estimators = estimators, objective='reg:squarederror', random_state=42)\n",
        "    rmse_scores[estimators]= get_score(xgb_model)**0.5\n",
        "    print(f\"Number of Estimators: {estimators}\\nScore: {rmse_scores[estimators]}\")\n"
      ],
      "outputs": [
        {
          "output_type": "stream",
          "name": "stdout",
          "text": [
            "Number of Estimators: 1350\n",
            "Score: 0.7244632097535231\n",
            "Number of Estimators: 1400\n",
            "Score: 0.7252217350670602\n",
            "Number of Estimators: 1500\n",
            "Score: 0.726664750688216\n",
            "Number of Estimators: 1600\n",
            "Score: 0.7275422241876456\n"
          ]
        }
      ],
      "metadata": {
        "colab": {
          "base_uri": "https://localhost:8080/"
        },
        "id": "fqq5XBz-ZSdQ",
        "outputId": "8c064889-a716-4e5d-c576-f5458825ad59"
      }
    },
    {
      "cell_type": "code",
      "execution_count": 44,
      "source": [
        "n_estimators = [600, 700, 800, 900, 1000, 1100, 1200]\n",
        "for estimators in n_estimators:\n",
        "    xgb_model = XGBRegressor(n_estimators = estimators, objective='reg:squarederror', random_state=42)\n",
        "    rmse_scores[estimators]= get_score(xgb_model)**0.5\n",
        "    print(f\"Number of Estimators: {estimators}\\nScore: {rmse_scores[estimators]}\")"
      ],
      "outputs": [
        {
          "output_type": "stream",
          "name": "stdout",
          "text": [
            "Number of Estimators: 600\n",
            "Score: 0.7135544544893807\n",
            "Number of Estimators: 700\n",
            "Score: 0.7155574776597493\n",
            "Number of Estimators: 800\n",
            "Score: 0.7173322694744654\n",
            "Number of Estimators: 900\n",
            "Score: 0.7193351848998087\n",
            "Number of Estimators: 1000\n",
            "Score: 0.7204369475555011\n",
            "Number of Estimators: 1100\n",
            "Score: 0.7218677323501987\n",
            "Number of Estimators: 1200\n",
            "Score: 0.723020943316984\n"
          ]
        }
      ],
      "metadata": {}
    },
    {
      "cell_type": "code",
      "execution_count": 46,
      "source": [
        "plt.scatter(rmse_scores.keys(), rmse_scores.values())"
      ],
      "outputs": [
        {
          "output_type": "execute_result",
          "data": {
            "text/plain": [
              "<matplotlib.collections.PathCollection at 0x7f88666d8b90>"
            ]
          },
          "metadata": {},
          "execution_count": 46
        },
        {
          "output_type": "display_data",
          "data": {
            "text/plain": [
              "<Figure size 432x288 with 1 Axes>"
            ],
            "image/svg+xml": "<?xml version=\"1.0\" encoding=\"utf-8\" standalone=\"no\"?>\n<!DOCTYPE svg PUBLIC \"-//W3C//DTD SVG 1.1//EN\"\n  \"http://www.w3.org/Graphics/SVG/1.1/DTD/svg11.dtd\">\n<svg height=\"248.902916pt\" version=\"1.1\" viewBox=\"0 0 384.828125 248.902916\" width=\"384.828125pt\" xmlns=\"http://www.w3.org/2000/svg\" xmlns:xlink=\"http://www.w3.org/1999/xlink\">\n <metadata>\n  <rdf:RDF xmlns:cc=\"http://creativecommons.org/ns#\" xmlns:dc=\"http://purl.org/dc/elements/1.1/\" xmlns:rdf=\"http://www.w3.org/1999/02/22-rdf-syntax-ns#\">\n   <cc:Work>\n    <dc:type rdf:resource=\"http://purl.org/dc/dcmitype/StillImage\"/>\n    <dc:date>2021-08-24T13:57:27.476120</dc:date>\n    <dc:format>image/svg+xml</dc:format>\n    <dc:creator>\n     <cc:Agent>\n      <dc:title>Matplotlib v3.4.3, https://matplotlib.org/</dc:title>\n     </cc:Agent>\n    </dc:creator>\n   </cc:Work>\n  </rdf:RDF>\n </metadata>\n <defs>\n  <style type=\"text/css\">*{stroke-linecap:butt;stroke-linejoin:round;}</style>\n </defs>\n <g id=\"figure_1\">\n  <g id=\"patch_1\">\n   <path d=\"M 0 248.902916 \nL 384.828125 248.902916 \nL 384.828125 0 \nL 0 0 \nz\n\" style=\"fill:none;\"/>\n  </g>\n  <g id=\"axes_1\">\n   <g id=\"patch_2\">\n    <path d=\"M 42.828125 225.024791 \nL 377.628125 225.024791 \nL 377.628125 7.584791 \nL 42.828125 7.584791 \nz\n\" style=\"fill:#ffffff;\"/>\n   </g>\n   <g id=\"PathCollection_1\">\n    <defs>\n     <path d=\"M 0 3 \nC 0.795609 3 1.55874 2.683901 2.12132 2.12132 \nC 2.683901 1.55874 3 0.795609 3 0 \nC 3 -0.795609 2.683901 -1.55874 2.12132 -2.12132 \nC 1.55874 -2.683901 0.795609 -3 0 -3 \nC -0.795609 -3 -1.55874 -2.683901 -2.12132 -2.12132 \nC -2.683901 -1.55874 -3 -0.795609 -3 0 \nC -3 0.795609 -2.683901 1.55874 -2.12132 2.12132 \nC -1.55874 2.683901 -0.795609 3 0 3 \nz\n\" id=\"m8175fc4b1c\" style=\"stroke:#1f77b4;\"/>\n    </defs>\n    <g clip-path=\"url(#p37d18a61be)\">\n     <use style=\"fill:#1f77b4;stroke:#1f77b4;\" x=\"286.319034\" xlink:href=\"#m8175fc4b1c\" y=\"60.980523\"/>\n     <use style=\"fill:#1f77b4;stroke:#1f77b4;\" x=\"301.537216\" xlink:href=\"#m8175fc4b1c\" y=\"50.261175\"/>\n     <use style=\"fill:#1f77b4;stroke:#1f77b4;\" x=\"331.97358\" xlink:href=\"#m8175fc4b1c\" y=\"29.86873\"/>\n     <use style=\"fill:#1f77b4;stroke:#1f77b4;\" x=\"362.409943\" xlink:href=\"#m8175fc4b1c\" y=\"17.468427\"/>\n     <use style=\"fill:#1f77b4;stroke:#1f77b4;\" x=\"58.046307\" xlink:href=\"#m8175fc4b1c\" y=\"215.141154\"/>\n     <use style=\"fill:#1f77b4;stroke:#1f77b4;\" x=\"88.48267\" xlink:href=\"#m8175fc4b1c\" y=\"186.834779\"/>\n     <use style=\"fill:#1f77b4;stroke:#1f77b4;\" x=\"118.919034\" xlink:href=\"#m8175fc4b1c\" y=\"161.75373\"/>\n     <use style=\"fill:#1f77b4;stroke:#1f77b4;\" x=\"149.355398\" xlink:href=\"#m8175fc4b1c\" y=\"133.448878\"/>\n     <use style=\"fill:#1f77b4;stroke:#1f77b4;\" x=\"179.791761\" xlink:href=\"#m8175fc4b1c\" y=\"117.87896\"/>\n     <use style=\"fill:#1f77b4;stroke:#1f77b4;\" x=\"210.228125\" xlink:href=\"#m8175fc4b1c\" y=\"97.659358\"/>\n     <use style=\"fill:#1f77b4;stroke:#1f77b4;\" x=\"240.664489\" xlink:href=\"#m8175fc4b1c\" y=\"81.362381\"/>\n    </g>\n   </g>\n   <g id=\"matplotlib.axis_1\">\n    <g id=\"xtick_1\">\n     <g id=\"line2d_1\">\n      <defs>\n       <path d=\"M 0 0 \nL 0 3.5 \n\" id=\"mb756e9d402\" style=\"stroke:#000000;stroke-width:0.8;\"/>\n      </defs>\n      <g>\n       <use style=\"stroke:#000000;stroke-width:0.8;\" x=\"58.046307\" xlink:href=\"#mb756e9d402\" y=\"225.024791\"/>\n      </g>\n     </g>\n     <g id=\"text_1\">\n      <!-- 600 -->\n      <g transform=\"translate(48.502557 239.623228)scale(0.1 -0.1)\">\n       <defs>\n        <path d=\"M 2113 2584 \nQ 1688 2584 1439 2293 \nQ 1191 2003 1191 1497 \nQ 1191 994 1439 701 \nQ 1688 409 2113 409 \nQ 2538 409 2786 701 \nQ 3034 994 3034 1497 \nQ 3034 2003 2786 2293 \nQ 2538 2584 2113 2584 \nz\nM 3366 4563 \nL 3366 3988 \nQ 3128 4100 2886 4159 \nQ 2644 4219 2406 4219 \nQ 1781 4219 1451 3797 \nQ 1122 3375 1075 2522 \nQ 1259 2794 1537 2939 \nQ 1816 3084 2150 3084 \nQ 2853 3084 3261 2657 \nQ 3669 2231 3669 1497 \nQ 3669 778 3244 343 \nQ 2819 -91 2113 -91 \nQ 1303 -91 875 529 \nQ 447 1150 447 2328 \nQ 447 3434 972 4092 \nQ 1497 4750 2381 4750 \nQ 2619 4750 2861 4703 \nQ 3103 4656 3366 4563 \nz\n\" id=\"DejaVuSans-36\" transform=\"scale(0.015625)\"/>\n        <path d=\"M 2034 4250 \nQ 1547 4250 1301 3770 \nQ 1056 3291 1056 2328 \nQ 1056 1369 1301 889 \nQ 1547 409 2034 409 \nQ 2525 409 2770 889 \nQ 3016 1369 3016 2328 \nQ 3016 3291 2770 3770 \nQ 2525 4250 2034 4250 \nz\nM 2034 4750 \nQ 2819 4750 3233 4129 \nQ 3647 3509 3647 2328 \nQ 3647 1150 3233 529 \nQ 2819 -91 2034 -91 \nQ 1250 -91 836 529 \nQ 422 1150 422 2328 \nQ 422 3509 836 4129 \nQ 1250 4750 2034 4750 \nz\n\" id=\"DejaVuSans-30\" transform=\"scale(0.015625)\"/>\n       </defs>\n       <use xlink:href=\"#DejaVuSans-36\"/>\n       <use x=\"63.623047\" xlink:href=\"#DejaVuSans-30\"/>\n       <use x=\"127.246094\" xlink:href=\"#DejaVuSans-30\"/>\n      </g>\n     </g>\n    </g>\n    <g id=\"xtick_2\">\n     <g id=\"line2d_2\">\n      <g>\n       <use style=\"stroke:#000000;stroke-width:0.8;\" x=\"118.919034\" xlink:href=\"#mb756e9d402\" y=\"225.024791\"/>\n      </g>\n     </g>\n     <g id=\"text_2\">\n      <!-- 800 -->\n      <g transform=\"translate(109.375284 239.623228)scale(0.1 -0.1)\">\n       <defs>\n        <path d=\"M 2034 2216 \nQ 1584 2216 1326 1975 \nQ 1069 1734 1069 1313 \nQ 1069 891 1326 650 \nQ 1584 409 2034 409 \nQ 2484 409 2743 651 \nQ 3003 894 3003 1313 \nQ 3003 1734 2745 1975 \nQ 2488 2216 2034 2216 \nz\nM 1403 2484 \nQ 997 2584 770 2862 \nQ 544 3141 544 3541 \nQ 544 4100 942 4425 \nQ 1341 4750 2034 4750 \nQ 2731 4750 3128 4425 \nQ 3525 4100 3525 3541 \nQ 3525 3141 3298 2862 \nQ 3072 2584 2669 2484 \nQ 3125 2378 3379 2068 \nQ 3634 1759 3634 1313 \nQ 3634 634 3220 271 \nQ 2806 -91 2034 -91 \nQ 1263 -91 848 271 \nQ 434 634 434 1313 \nQ 434 1759 690 2068 \nQ 947 2378 1403 2484 \nz\nM 1172 3481 \nQ 1172 3119 1398 2916 \nQ 1625 2713 2034 2713 \nQ 2441 2713 2670 2916 \nQ 2900 3119 2900 3481 \nQ 2900 3844 2670 4047 \nQ 2441 4250 2034 4250 \nQ 1625 4250 1398 4047 \nQ 1172 3844 1172 3481 \nz\n\" id=\"DejaVuSans-38\" transform=\"scale(0.015625)\"/>\n       </defs>\n       <use xlink:href=\"#DejaVuSans-38\"/>\n       <use x=\"63.623047\" xlink:href=\"#DejaVuSans-30\"/>\n       <use x=\"127.246094\" xlink:href=\"#DejaVuSans-30\"/>\n      </g>\n     </g>\n    </g>\n    <g id=\"xtick_3\">\n     <g id=\"line2d_3\">\n      <g>\n       <use style=\"stroke:#000000;stroke-width:0.8;\" x=\"179.791761\" xlink:href=\"#mb756e9d402\" y=\"225.024791\"/>\n      </g>\n     </g>\n     <g id=\"text_3\">\n      <!-- 1000 -->\n      <g transform=\"translate(167.066761 239.623228)scale(0.1 -0.1)\">\n       <defs>\n        <path d=\"M 794 531 \nL 1825 531 \nL 1825 4091 \nL 703 3866 \nL 703 4441 \nL 1819 4666 \nL 2450 4666 \nL 2450 531 \nL 3481 531 \nL 3481 0 \nL 794 0 \nL 794 531 \nz\n\" id=\"DejaVuSans-31\" transform=\"scale(0.015625)\"/>\n       </defs>\n       <use xlink:href=\"#DejaVuSans-31\"/>\n       <use x=\"63.623047\" xlink:href=\"#DejaVuSans-30\"/>\n       <use x=\"127.246094\" xlink:href=\"#DejaVuSans-30\"/>\n       <use x=\"190.869141\" xlink:href=\"#DejaVuSans-30\"/>\n      </g>\n     </g>\n    </g>\n    <g id=\"xtick_4\">\n     <g id=\"line2d_4\">\n      <g>\n       <use style=\"stroke:#000000;stroke-width:0.8;\" x=\"240.664489\" xlink:href=\"#mb756e9d402\" y=\"225.024791\"/>\n      </g>\n     </g>\n     <g id=\"text_4\">\n      <!-- 1200 -->\n      <g transform=\"translate(227.939489 239.623228)scale(0.1 -0.1)\">\n       <defs>\n        <path d=\"M 1228 531 \nL 3431 531 \nL 3431 0 \nL 469 0 \nL 469 531 \nQ 828 903 1448 1529 \nQ 2069 2156 2228 2338 \nQ 2531 2678 2651 2914 \nQ 2772 3150 2772 3378 \nQ 2772 3750 2511 3984 \nQ 2250 4219 1831 4219 \nQ 1534 4219 1204 4116 \nQ 875 4013 500 3803 \nL 500 4441 \nQ 881 4594 1212 4672 \nQ 1544 4750 1819 4750 \nQ 2544 4750 2975 4387 \nQ 3406 4025 3406 3419 \nQ 3406 3131 3298 2873 \nQ 3191 2616 2906 2266 \nQ 2828 2175 2409 1742 \nQ 1991 1309 1228 531 \nz\n\" id=\"DejaVuSans-32\" transform=\"scale(0.015625)\"/>\n       </defs>\n       <use xlink:href=\"#DejaVuSans-31\"/>\n       <use x=\"63.623047\" xlink:href=\"#DejaVuSans-32\"/>\n       <use x=\"127.246094\" xlink:href=\"#DejaVuSans-30\"/>\n       <use x=\"190.869141\" xlink:href=\"#DejaVuSans-30\"/>\n      </g>\n     </g>\n    </g>\n    <g id=\"xtick_5\">\n     <g id=\"line2d_5\">\n      <g>\n       <use style=\"stroke:#000000;stroke-width:0.8;\" x=\"301.537216\" xlink:href=\"#mb756e9d402\" y=\"225.024791\"/>\n      </g>\n     </g>\n     <g id=\"text_5\">\n      <!-- 1400 -->\n      <g transform=\"translate(288.812216 239.623228)scale(0.1 -0.1)\">\n       <defs>\n        <path d=\"M 2419 4116 \nL 825 1625 \nL 2419 1625 \nL 2419 4116 \nz\nM 2253 4666 \nL 3047 4666 \nL 3047 1625 \nL 3713 1625 \nL 3713 1100 \nL 3047 1100 \nL 3047 0 \nL 2419 0 \nL 2419 1100 \nL 313 1100 \nL 313 1709 \nL 2253 4666 \nz\n\" id=\"DejaVuSans-34\" transform=\"scale(0.015625)\"/>\n       </defs>\n       <use xlink:href=\"#DejaVuSans-31\"/>\n       <use x=\"63.623047\" xlink:href=\"#DejaVuSans-34\"/>\n       <use x=\"127.246094\" xlink:href=\"#DejaVuSans-30\"/>\n       <use x=\"190.869141\" xlink:href=\"#DejaVuSans-30\"/>\n      </g>\n     </g>\n    </g>\n    <g id=\"xtick_6\">\n     <g id=\"line2d_6\">\n      <g>\n       <use style=\"stroke:#000000;stroke-width:0.8;\" x=\"362.409943\" xlink:href=\"#mb756e9d402\" y=\"225.024791\"/>\n      </g>\n     </g>\n     <g id=\"text_6\">\n      <!-- 1600 -->\n      <g transform=\"translate(349.684943 239.623228)scale(0.1 -0.1)\">\n       <use xlink:href=\"#DejaVuSans-31\"/>\n       <use x=\"63.623047\" xlink:href=\"#DejaVuSans-36\"/>\n       <use x=\"127.246094\" xlink:href=\"#DejaVuSans-30\"/>\n       <use x=\"190.869141\" xlink:href=\"#DejaVuSans-30\"/>\n      </g>\n     </g>\n    </g>\n   </g>\n   <g id=\"matplotlib.axis_2\">\n    <g id=\"ytick_1\">\n     <g id=\"line2d_7\">\n      <defs>\n       <path d=\"M 0 0 \nL -3.5 0 \n\" id=\"md111ff9916\" style=\"stroke:#000000;stroke-width:0.8;\"/>\n      </defs>\n      <g>\n       <use style=\"stroke:#000000;stroke-width:0.8;\" x=\"42.828125\" xlink:href=\"#md111ff9916\" y=\"208.844783\"/>\n      </g>\n     </g>\n     <g id=\"text_7\">\n      <!-- 0.714 -->\n      <g transform=\"translate(7.2 212.644001)scale(0.1 -0.1)\">\n       <defs>\n        <path d=\"M 684 794 \nL 1344 794 \nL 1344 0 \nL 684 0 \nL 684 794 \nz\n\" id=\"DejaVuSans-2e\" transform=\"scale(0.015625)\"/>\n        <path d=\"M 525 4666 \nL 3525 4666 \nL 3525 4397 \nL 1831 0 \nL 1172 0 \nL 2766 4134 \nL 525 4134 \nL 525 4666 \nz\n\" id=\"DejaVuSans-37\" transform=\"scale(0.015625)\"/>\n       </defs>\n       <use xlink:href=\"#DejaVuSans-30\"/>\n       <use x=\"63.623047\" xlink:href=\"#DejaVuSans-2e\"/>\n       <use x=\"95.410156\" xlink:href=\"#DejaVuSans-37\"/>\n       <use x=\"159.033203\" xlink:href=\"#DejaVuSans-31\"/>\n       <use x=\"222.65625\" xlink:href=\"#DejaVuSans-34\"/>\n      </g>\n     </g>\n    </g>\n    <g id=\"ytick_2\">\n     <g id=\"line2d_8\">\n      <g>\n       <use style=\"stroke:#000000;stroke-width:0.8;\" x=\"42.828125\" xlink:href=\"#md111ff9916\" y=\"180.581131\"/>\n      </g>\n     </g>\n     <g id=\"text_8\">\n      <!-- 0.716 -->\n      <g transform=\"translate(7.2 184.380349)scale(0.1 -0.1)\">\n       <use xlink:href=\"#DejaVuSans-30\"/>\n       <use x=\"63.623047\" xlink:href=\"#DejaVuSans-2e\"/>\n       <use x=\"95.410156\" xlink:href=\"#DejaVuSans-37\"/>\n       <use x=\"159.033203\" xlink:href=\"#DejaVuSans-31\"/>\n       <use x=\"222.65625\" xlink:href=\"#DejaVuSans-36\"/>\n      </g>\n     </g>\n    </g>\n    <g id=\"ytick_3\">\n     <g id=\"line2d_9\">\n      <g>\n       <use style=\"stroke:#000000;stroke-width:0.8;\" x=\"42.828125\" xlink:href=\"#md111ff9916\" y=\"152.317479\"/>\n      </g>\n     </g>\n     <g id=\"text_9\">\n      <!-- 0.718 -->\n      <g transform=\"translate(7.2 156.116697)scale(0.1 -0.1)\">\n       <use xlink:href=\"#DejaVuSans-30\"/>\n       <use x=\"63.623047\" xlink:href=\"#DejaVuSans-2e\"/>\n       <use x=\"95.410156\" xlink:href=\"#DejaVuSans-37\"/>\n       <use x=\"159.033203\" xlink:href=\"#DejaVuSans-31\"/>\n       <use x=\"222.65625\" xlink:href=\"#DejaVuSans-38\"/>\n      </g>\n     </g>\n    </g>\n    <g id=\"ytick_4\">\n     <g id=\"line2d_10\">\n      <g>\n       <use style=\"stroke:#000000;stroke-width:0.8;\" x=\"42.828125\" xlink:href=\"#md111ff9916\" y=\"124.053827\"/>\n      </g>\n     </g>\n     <g id=\"text_10\">\n      <!-- 0.720 -->\n      <g transform=\"translate(7.2 127.853045)scale(0.1 -0.1)\">\n       <use xlink:href=\"#DejaVuSans-30\"/>\n       <use x=\"63.623047\" xlink:href=\"#DejaVuSans-2e\"/>\n       <use x=\"95.410156\" xlink:href=\"#DejaVuSans-37\"/>\n       <use x=\"159.033203\" xlink:href=\"#DejaVuSans-32\"/>\n       <use x=\"222.65625\" xlink:href=\"#DejaVuSans-30\"/>\n      </g>\n     </g>\n    </g>\n    <g id=\"ytick_5\">\n     <g id=\"line2d_11\">\n      <g>\n       <use style=\"stroke:#000000;stroke-width:0.8;\" x=\"42.828125\" xlink:href=\"#md111ff9916\" y=\"95.790175\"/>\n      </g>\n     </g>\n     <g id=\"text_11\">\n      <!-- 0.722 -->\n      <g transform=\"translate(7.2 99.589393)scale(0.1 -0.1)\">\n       <use xlink:href=\"#DejaVuSans-30\"/>\n       <use x=\"63.623047\" xlink:href=\"#DejaVuSans-2e\"/>\n       <use x=\"95.410156\" xlink:href=\"#DejaVuSans-37\"/>\n       <use x=\"159.033203\" xlink:href=\"#DejaVuSans-32\"/>\n       <use x=\"222.65625\" xlink:href=\"#DejaVuSans-32\"/>\n      </g>\n     </g>\n    </g>\n    <g id=\"ytick_6\">\n     <g id=\"line2d_12\">\n      <g>\n       <use style=\"stroke:#000000;stroke-width:0.8;\" x=\"42.828125\" xlink:href=\"#md111ff9916\" y=\"67.526523\"/>\n      </g>\n     </g>\n     <g id=\"text_12\">\n      <!-- 0.724 -->\n      <g transform=\"translate(7.2 71.325741)scale(0.1 -0.1)\">\n       <use xlink:href=\"#DejaVuSans-30\"/>\n       <use x=\"63.623047\" xlink:href=\"#DejaVuSans-2e\"/>\n       <use x=\"95.410156\" xlink:href=\"#DejaVuSans-37\"/>\n       <use x=\"159.033203\" xlink:href=\"#DejaVuSans-32\"/>\n       <use x=\"222.65625\" xlink:href=\"#DejaVuSans-34\"/>\n      </g>\n     </g>\n    </g>\n    <g id=\"ytick_7\">\n     <g id=\"line2d_13\">\n      <g>\n       <use style=\"stroke:#000000;stroke-width:0.8;\" x=\"42.828125\" xlink:href=\"#md111ff9916\" y=\"39.262871\"/>\n      </g>\n     </g>\n     <g id=\"text_13\">\n      <!-- 0.726 -->\n      <g transform=\"translate(7.2 43.062089)scale(0.1 -0.1)\">\n       <use xlink:href=\"#DejaVuSans-30\"/>\n       <use x=\"63.623047\" xlink:href=\"#DejaVuSans-2e\"/>\n       <use x=\"95.410156\" xlink:href=\"#DejaVuSans-37\"/>\n       <use x=\"159.033203\" xlink:href=\"#DejaVuSans-32\"/>\n       <use x=\"222.65625\" xlink:href=\"#DejaVuSans-36\"/>\n      </g>\n     </g>\n    </g>\n    <g id=\"ytick_8\">\n     <g id=\"line2d_14\">\n      <g>\n       <use style=\"stroke:#000000;stroke-width:0.8;\" x=\"42.828125\" xlink:href=\"#md111ff9916\" y=\"10.999219\"/>\n      </g>\n     </g>\n     <g id=\"text_14\">\n      <!-- 0.728 -->\n      <g transform=\"translate(7.2 14.798438)scale(0.1 -0.1)\">\n       <use xlink:href=\"#DejaVuSans-30\"/>\n       <use x=\"63.623047\" xlink:href=\"#DejaVuSans-2e\"/>\n       <use x=\"95.410156\" xlink:href=\"#DejaVuSans-37\"/>\n       <use x=\"159.033203\" xlink:href=\"#DejaVuSans-32\"/>\n       <use x=\"222.65625\" xlink:href=\"#DejaVuSans-38\"/>\n      </g>\n     </g>\n    </g>\n   </g>\n   <g id=\"patch_3\">\n    <path d=\"M 42.828125 225.024791 \nL 42.828125 7.584791 \n\" style=\"fill:none;stroke:#000000;stroke-linecap:square;stroke-linejoin:miter;stroke-width:0.8;\"/>\n   </g>\n   <g id=\"patch_4\">\n    <path d=\"M 377.628125 225.024791 \nL 377.628125 7.584791 \n\" style=\"fill:none;stroke:#000000;stroke-linecap:square;stroke-linejoin:miter;stroke-width:0.8;\"/>\n   </g>\n   <g id=\"patch_5\">\n    <path d=\"M 42.828125 225.024791 \nL 377.628125 225.024791 \n\" style=\"fill:none;stroke:#000000;stroke-linecap:square;stroke-linejoin:miter;stroke-width:0.8;\"/>\n   </g>\n   <g id=\"patch_6\">\n    <path d=\"M 42.828125 7.584791 \nL 377.628125 7.584791 \n\" style=\"fill:none;stroke:#000000;stroke-linecap:square;stroke-linejoin:miter;stroke-width:0.8;\"/>\n   </g>\n  </g>\n </g>\n <defs>\n  <clipPath id=\"p37d18a61be\">\n   <rect height=\"217.44\" width=\"334.8\" x=\"42.828125\" y=\"7.584791\"/>\n  </clipPath>\n </defs>\n</svg>\n",
            "image/png": "[encoded data removed]"
          },
          "metadata": {
            "needs_background": "light"
          }
        }
      ],
      "metadata": {}
    },
    {
      "cell_type": "code",
      "execution_count": 48,
      "source": [
        "best_n_estimator = min(rmse_scores, key=rmse_scores.get)\n",
        "best_model = XGBRegressor(n_estimators = best_n_estimator, objective='reg:squarederror', random_state=42)\n",
        "print(f\"Best Estimator: {best_n_estimator}\")\n",
        "best_pipeline = Pipeline(steps=[\n",
        "    ('preprocessor', preprocessor),\n",
        "    ('model', best_model)\n",
        "])"
      ],
      "outputs": [
        {
          "output_type": "stream",
          "name": "stdout",
          "text": [
            "Best Estimator: 600\n"
          ]
        }
      ],
      "metadata": {}
    },
    {
      "cell_type": "code",
      "execution_count": 49,
      "source": [
        "best_pipeline.fit(X, y)"
      ],
      "outputs": [
        {
          "output_type": "error",
          "ename": "KeyboardInterrupt",
          "evalue": "",
          "traceback": [
            "\u001b[0;31m---------------------------------------------------------------------------\u001b[0m",
            "\u001b[0;31mKeyboardInterrupt\u001b[0m                         Traceback (most recent call last)",
            "\u001b[0;32m<ipython-input-49-a89c386652a0>\u001b[0m in \u001b[0;36m<module>\u001b[0;34m\u001b[0m\n\u001b[0;32m----> 1\u001b[0;31m \u001b[0mbest_pipeline\u001b[0m\u001b[0;34m.\u001b[0m\u001b[0mfit\u001b[0m\u001b[0;34m(\u001b[0m\u001b[0mX\u001b[0m\u001b[0;34m,\u001b[0m \u001b[0my\u001b[0m\u001b[0;34m)\u001b[0m\u001b[0;34m\u001b[0m\u001b[0;34m\u001b[0m\u001b[0m\n\u001b[0m",
            "\u001b[0;32m~/opt/anaconda3/lib/python3.7/site-packages/sklearn/pipeline.py\u001b[0m in \u001b[0;36mfit\u001b[0;34m(self, X, y, **fit_params)\u001b[0m\n\u001b[1;32m    352\u001b[0m                                  self._log_message(len(self.steps) - 1)):\n\u001b[1;32m    353\u001b[0m             \u001b[0;32mif\u001b[0m \u001b[0mself\u001b[0m\u001b[0;34m.\u001b[0m\u001b[0m_final_estimator\u001b[0m \u001b[0;34m!=\u001b[0m \u001b[0;34m'passthrough'\u001b[0m\u001b[0;34m:\u001b[0m\u001b[0;34m\u001b[0m\u001b[0;34m\u001b[0m\u001b[0m\n\u001b[0;32m--> 354\u001b[0;31m                 \u001b[0mself\u001b[0m\u001b[0;34m.\u001b[0m\u001b[0m_final_estimator\u001b[0m\u001b[0;34m.\u001b[0m\u001b[0mfit\u001b[0m\u001b[0;34m(\u001b[0m\u001b[0mXt\u001b[0m\u001b[0;34m,\u001b[0m \u001b[0my\u001b[0m\u001b[0;34m,\u001b[0m \u001b[0;34m**\u001b[0m\u001b[0mfit_params\u001b[0m\u001b[0;34m)\u001b[0m\u001b[0;34m\u001b[0m\u001b[0;34m\u001b[0m\u001b[0m\n\u001b[0m\u001b[1;32m    355\u001b[0m         \u001b[0;32mreturn\u001b[0m \u001b[0mself\u001b[0m\u001b[0;34m\u001b[0m\u001b[0;34m\u001b[0m\u001b[0m\n\u001b[1;32m    356\u001b[0m \u001b[0;34m\u001b[0m\u001b[0m\n",
            "\u001b[0;32m~/opt/anaconda3/lib/python3.7/site-packages/xgboost/sklearn.py\u001b[0m in \u001b[0;36mfit\u001b[0;34m(self, X, y, sample_weight, base_margin, eval_set, eval_metric, early_stopping_rounds, verbose, xgb_model, sample_weight_eval_set, callbacks)\u001b[0m\n\u001b[1;32m    546\u001b[0m                               \u001b[0mobj\u001b[0m\u001b[0;34m=\u001b[0m\u001b[0mobj\u001b[0m\u001b[0;34m,\u001b[0m \u001b[0mfeval\u001b[0m\u001b[0;34m=\u001b[0m\u001b[0mfeval\u001b[0m\u001b[0;34m,\u001b[0m\u001b[0;34m\u001b[0m\u001b[0;34m\u001b[0m\u001b[0m\n\u001b[1;32m    547\u001b[0m                               \u001b[0mverbose_eval\u001b[0m\u001b[0;34m=\u001b[0m\u001b[0mverbose\u001b[0m\u001b[0;34m,\u001b[0m \u001b[0mxgb_model\u001b[0m\u001b[0;34m=\u001b[0m\u001b[0mxgb_model\u001b[0m\u001b[0;34m,\u001b[0m\u001b[0;34m\u001b[0m\u001b[0;34m\u001b[0m\u001b[0m\n\u001b[0;32m--> 548\u001b[0;31m                               callbacks=callbacks)\n\u001b[0m\u001b[1;32m    549\u001b[0m \u001b[0;34m\u001b[0m\u001b[0m\n\u001b[1;32m    550\u001b[0m         \u001b[0;32mif\u001b[0m \u001b[0mevals_result\u001b[0m\u001b[0;34m:\u001b[0m\u001b[0;34m\u001b[0m\u001b[0;34m\u001b[0m\u001b[0m\n",
            "\u001b[0;32m~/opt/anaconda3/lib/python3.7/site-packages/xgboost/training.py\u001b[0m in \u001b[0;36mtrain\u001b[0;34m(params, dtrain, num_boost_round, evals, obj, feval, maximize, early_stopping_rounds, evals_result, verbose_eval, xgb_model, callbacks)\u001b[0m\n\u001b[1;32m    210\u001b[0m                            \u001b[0mevals\u001b[0m\u001b[0;34m=\u001b[0m\u001b[0mevals\u001b[0m\u001b[0;34m,\u001b[0m\u001b[0;34m\u001b[0m\u001b[0;34m\u001b[0m\u001b[0m\n\u001b[1;32m    211\u001b[0m                            \u001b[0mobj\u001b[0m\u001b[0;34m=\u001b[0m\u001b[0mobj\u001b[0m\u001b[0;34m,\u001b[0m \u001b[0mfeval\u001b[0m\u001b[0;34m=\u001b[0m\u001b[0mfeval\u001b[0m\u001b[0;34m,\u001b[0m\u001b[0;34m\u001b[0m\u001b[0;34m\u001b[0m\u001b[0m\n\u001b[0;32m--> 212\u001b[0;31m                            xgb_model=xgb_model, callbacks=callbacks)\n\u001b[0m\u001b[1;32m    213\u001b[0m \u001b[0;34m\u001b[0m\u001b[0m\n\u001b[1;32m    214\u001b[0m \u001b[0;34m\u001b[0m\u001b[0m\n",
            "\u001b[0;32m~/opt/anaconda3/lib/python3.7/site-packages/xgboost/training.py\u001b[0m in \u001b[0;36m_train_internal\u001b[0;34m(params, dtrain, num_boost_round, evals, obj, feval, xgb_model, callbacks)\u001b[0m\n\u001b[1;32m     73\u001b[0m         \u001b[0;31m# Skip the first update if it is a recovery step.\u001b[0m\u001b[0;34m\u001b[0m\u001b[0;34m\u001b[0m\u001b[0;34m\u001b[0m\u001b[0m\n\u001b[1;32m     74\u001b[0m         \u001b[0;32mif\u001b[0m \u001b[0mversion\u001b[0m \u001b[0;34m%\u001b[0m \u001b[0;36m2\u001b[0m \u001b[0;34m==\u001b[0m \u001b[0;36m0\u001b[0m\u001b[0;34m:\u001b[0m\u001b[0;34m\u001b[0m\u001b[0;34m\u001b[0m\u001b[0m\n\u001b[0;32m---> 75\u001b[0;31m             \u001b[0mbst\u001b[0m\u001b[0;34m.\u001b[0m\u001b[0mupdate\u001b[0m\u001b[0;34m(\u001b[0m\u001b[0mdtrain\u001b[0m\u001b[0;34m,\u001b[0m \u001b[0mi\u001b[0m\u001b[0;34m,\u001b[0m \u001b[0mobj\u001b[0m\u001b[0;34m)\u001b[0m\u001b[0;34m\u001b[0m\u001b[0;34m\u001b[0m\u001b[0m\n\u001b[0m\u001b[1;32m     76\u001b[0m             \u001b[0mbst\u001b[0m\u001b[0;34m.\u001b[0m\u001b[0msave_rabit_checkpoint\u001b[0m\u001b[0;34m(\u001b[0m\u001b[0;34m)\u001b[0m\u001b[0;34m\u001b[0m\u001b[0;34m\u001b[0m\u001b[0m\n\u001b[1;32m     77\u001b[0m             \u001b[0mversion\u001b[0m \u001b[0;34m+=\u001b[0m \u001b[0;36m1\u001b[0m\u001b[0;34m\u001b[0m\u001b[0;34m\u001b[0m\u001b[0m\n",
            "\u001b[0;32m~/opt/anaconda3/lib/python3.7/site-packages/xgboost/core.py\u001b[0m in \u001b[0;36mupdate\u001b[0;34m(self, dtrain, iteration, fobj)\u001b[0m\n\u001b[1;32m   1159\u001b[0m             _check_call(_LIB.XGBoosterUpdateOneIter(self.handle,\n\u001b[1;32m   1160\u001b[0m                                                     \u001b[0mctypes\u001b[0m\u001b[0;34m.\u001b[0m\u001b[0mc_int\u001b[0m\u001b[0;34m(\u001b[0m\u001b[0miteration\u001b[0m\u001b[0;34m)\u001b[0m\u001b[0;34m,\u001b[0m\u001b[0;34m\u001b[0m\u001b[0;34m\u001b[0m\u001b[0m\n\u001b[0;32m-> 1161\u001b[0;31m                                                     dtrain.handle))\n\u001b[0m\u001b[1;32m   1162\u001b[0m         \u001b[0;32melse\u001b[0m\u001b[0;34m:\u001b[0m\u001b[0;34m\u001b[0m\u001b[0;34m\u001b[0m\u001b[0m\n\u001b[1;32m   1163\u001b[0m             \u001b[0mpred\u001b[0m \u001b[0;34m=\u001b[0m \u001b[0mself\u001b[0m\u001b[0;34m.\u001b[0m\u001b[0mpredict\u001b[0m\u001b[0;34m(\u001b[0m\u001b[0mdtrain\u001b[0m\u001b[0;34m,\u001b[0m \u001b[0moutput_margin\u001b[0m\u001b[0;34m=\u001b[0m\u001b[0;32mTrue\u001b[0m\u001b[0;34m,\u001b[0m \u001b[0mtraining\u001b[0m\u001b[0;34m=\u001b[0m\u001b[0;32mTrue\u001b[0m\u001b[0;34m)\u001b[0m\u001b[0;34m\u001b[0m\u001b[0;34m\u001b[0m\u001b[0m\n",
            "\u001b[0;31mKeyboardInterrupt\u001b[0m: "
          ]
        }
      ],
      "metadata": {}
    },
    {
      "cell_type": "code",
      "execution_count": 39,
      "source": [
        "predictions = best_pipeline.predict(X_test)"
      ],
      "outputs": [],
      "metadata": {}
    },
    {
      "cell_type": "code",
      "execution_count": 40,
      "source": [
        "OUTPUT_PATH = 'output'\n",
        "def output_submission(prediction, file_name):\n",
        "    \"\"\"creating a kaggle submission file\n",
        "\n",
        "    Args:\n",
        "        prediction (array): an array of predictions of the test dataset\n",
        "        file_name (string): a string for the name without the extension\n",
        "    \"\"\"\n",
        "    my_submission = pd.DataFrame({'target': predictions},\n",
        "                                 index=X_test.index)\n",
        "    #my_submission.set_index('id')\n",
        "    file_path = os.path.join(OUTPUT_PATH,file_name)\n",
        "    my_submission.to_csv(f'{file_path}.csv')\n",
        "    print(f'A submission file has been made at {file_path}')"
      ],
      "outputs": [],
      "metadata": {}
    },
    {
      "cell_type": "code",
      "execution_count": 41,
      "source": [
        "output_submission(predictions, \"Submission5-2\")"
      ],
      "outputs": [
        {
          "output_type": "stream",
          "name": "stdout",
          "text": [
            "A submission file has been made at output/Submission10\n"
          ]
        }
      ],
      "metadata": {}
    },
    {
      "cell_type": "code",
      "execution_count": 42,
      "source": [
        "df"
      ],
      "outputs": [
        {
          "output_type": "execute_result",
          "data": {
            "text/plain": [
              "       cat0 cat1 cat2 cat3 cat4 cat5 cat6 cat7 cat8 cat9  ...     cont5  \\\n",
              "id                                                        ...             \n",
              "1         B    B    B    C    B    B    A    E    C    N  ...  0.400361   \n",
              "2         B    B    A    A    B    D    A    F    A    O  ...  0.533087   \n",
              "3         A    A    A    C    B    D    A    D    A    F  ...  0.650609   \n",
              "4         B    B    A    C    B    D    A    E    C    K  ...  0.668980   \n",
              "6         A    A    A    C    B    D    A    E    A    N  ...  0.686964   \n",
              "...     ...  ...  ...  ...  ...  ...  ...  ...  ...  ...  ...       ...   \n",
              "499993    B    B    A    A    B    D    A    E    A    I  ...  0.769792   \n",
              "499996    A    B    A    C    B    B    A    E    E    F  ...  0.528056   \n",
              "499997    B    B    A    C    B    C    A    E    G    F  ...  0.688747   \n",
              "499998    A    B    A    C    B    B    A    E    E    I  ...  0.344404   \n",
              "499999    A    A    A    C    A    D    A    E    A    O  ...  0.565347   \n",
              "\n",
              "           cont6     cont7     cont8     cont9    cont10    cont11    cont12  \\\n",
              "id                                                                             \n",
              "1       0.160266  0.310921  0.389470  0.267559  0.237281  0.377873  0.322401   \n",
              "2       0.558922  0.516294  0.594928  0.341439  0.906013  0.921701  0.261975   \n",
              "3       0.375348  0.902567  0.555205  0.843531  0.748809  0.620126  0.541474   \n",
              "4       0.239061  0.732948  0.679618  0.574844  0.346010  0.714610  0.540150   \n",
              "6       0.420667  0.648182  0.684501  0.956692  1.000773  0.776742  0.625849   \n",
              "...          ...       ...       ...       ...       ...       ...       ...   \n",
              "499993  0.450538  0.934360  1.005077  0.853726  0.422541  1.063463  0.697685   \n",
              "499996  0.508502  0.358247  0.257825  0.433525  0.301015  0.268447  0.577055   \n",
              "499997  0.372425  0.364936  0.383224  0.551825  0.661007  0.629606  0.714139   \n",
              "499998  0.424243  0.382028  0.468819  0.351036  0.288768  0.611169  0.380254   \n",
              "499999  0.328669  0.789165  0.960406  0.776019  0.734707  0.484392  0.639754   \n",
              "\n",
              "          cont13    target  \n",
              "id                          \n",
              "1       0.869850  8.113634  \n",
              "2       0.465083  8.481233  \n",
              "3       0.763846  8.364351  \n",
              "4       0.280682  8.049253  \n",
              "6       0.250823  7.972260  \n",
              "...          ...       ...  \n",
              "499993  0.506404  7.945605  \n",
              "499996  0.823611  7.326118  \n",
              "499997  0.245732  8.706755  \n",
              "499998  0.332030  7.229569  \n",
              "499999  0.689317  8.631146  \n",
              "\n",
              "[300000 rows x 25 columns]"
            ],
            "text/html": [
              "<div>\n",
              "<style scoped>\n",
              "    .dataframe tbody tr th:only-of-type {\n",
              "        vertical-align: middle;\n",
              "    }\n",
              "\n",
              "    .dataframe tbody tr th {\n",
              "        vertical-align: top;\n",
              "    }\n",
              "\n",
              "    .dataframe thead th {\n",
              "        text-align: right;\n",
              "    }\n",
              "</style>\n",
              "<table border=\"1\" class=\"dataframe\">\n",
              "  <thead>\n",
              "    <tr style=\"text-align: right;\">\n",
              "      <th></th>\n",
              "      <th>cat0</th>\n",
              "      <th>cat1</th>\n",
              "      <th>cat2</th>\n",
              "      <th>cat3</th>\n",
              "      <th>cat4</th>\n",
              "      <th>cat5</th>\n",
              "      <th>cat6</th>\n",
              "      <th>cat7</th>\n",
              "      <th>cat8</th>\n",
              "      <th>cat9</th>\n",
              "      <th>...</th>\n",
              "      <th>cont5</th>\n",
              "      <th>cont6</th>\n",
              "      <th>cont7</th>\n",
              "      <th>cont8</th>\n",
              "      <th>cont9</th>\n",
              "      <th>cont10</th>\n",
              "      <th>cont11</th>\n",
              "      <th>cont12</th>\n",
              "      <th>cont13</th>\n",
              "      <th>target</th>\n",
              "    </tr>\n",
              "    <tr>\n",
              "      <th>id</th>\n",
              "      <th></th>\n",
              "      <th></th>\n",
              "      <th></th>\n",
              "      <th></th>\n",
              "      <th></th>\n",
              "      <th></th>\n",
              "      <th></th>\n",
              "      <th></th>\n",
              "      <th></th>\n",
              "      <th></th>\n",
              "      <th></th>\n",
              "      <th></th>\n",
              "      <th></th>\n",
              "      <th></th>\n",
              "      <th></th>\n",
              "      <th></th>\n",
              "      <th></th>\n",
              "      <th></th>\n",
              "      <th></th>\n",
              "      <th></th>\n",
              "      <th></th>\n",
              "    </tr>\n",
              "  </thead>\n",
              "  <tbody>\n",
              "    <tr>\n",
              "      <th>1</th>\n",
              "      <td>B</td>\n",
              "      <td>B</td>\n",
              "      <td>B</td>\n",
              "      <td>C</td>\n",
              "      <td>B</td>\n",
              "      <td>B</td>\n",
              "      <td>A</td>\n",
              "      <td>E</td>\n",
              "      <td>C</td>\n",
              "      <td>N</td>\n",
              "      <td>...</td>\n",
              "      <td>0.400361</td>\n",
              "      <td>0.160266</td>\n",
              "      <td>0.310921</td>\n",
              "      <td>0.389470</td>\n",
              "      <td>0.267559</td>\n",
              "      <td>0.237281</td>\n",
              "      <td>0.377873</td>\n",
              "      <td>0.322401</td>\n",
              "      <td>0.869850</td>\n",
              "      <td>8.113634</td>\n",
              "    </tr>\n",
              "    <tr>\n",
              "      <th>2</th>\n",
              "      <td>B</td>\n",
              "      <td>B</td>\n",
              "      <td>A</td>\n",
              "      <td>A</td>\n",
              "      <td>B</td>\n",
              "      <td>D</td>\n",
              "      <td>A</td>\n",
              "      <td>F</td>\n",
              "      <td>A</td>\n",
              "      <td>O</td>\n",
              "      <td>...</td>\n",
              "      <td>0.533087</td>\n",
              "      <td>0.558922</td>\n",
              "      <td>0.516294</td>\n",
              "      <td>0.594928</td>\n",
              "      <td>0.341439</td>\n",
              "      <td>0.906013</td>\n",
              "      <td>0.921701</td>\n",
              "      <td>0.261975</td>\n",
              "      <td>0.465083</td>\n",
              "      <td>8.481233</td>\n",
              "    </tr>\n",
              "    <tr>\n",
              "      <th>3</th>\n",
              "      <td>A</td>\n",
              "      <td>A</td>\n",
              "      <td>A</td>\n",
              "      <td>C</td>\n",
              "      <td>B</td>\n",
              "      <td>D</td>\n",
              "      <td>A</td>\n",
              "      <td>D</td>\n",
              "      <td>A</td>\n",
              "      <td>F</td>\n",
              "      <td>...</td>\n",
              "      <td>0.650609</td>\n",
              "      <td>0.375348</td>\n",
              "      <td>0.902567</td>\n",
              "      <td>0.555205</td>\n",
              "      <td>0.843531</td>\n",
              "      <td>0.748809</td>\n",
              "      <td>0.620126</td>\n",
              "      <td>0.541474</td>\n",
              "      <td>0.763846</td>\n",
              "      <td>8.364351</td>\n",
              "    </tr>\n",
              "    <tr>\n",
              "      <th>4</th>\n",
              "      <td>B</td>\n",
              "      <td>B</td>\n",
              "      <td>A</td>\n",
              "      <td>C</td>\n",
              "      <td>B</td>\n",
              "      <td>D</td>\n",
              "      <td>A</td>\n",
              "      <td>E</td>\n",
              "      <td>C</td>\n",
              "      <td>K</td>\n",
              "      <td>...</td>\n",
              "      <td>0.668980</td>\n",
              "      <td>0.239061</td>\n",
              "      <td>0.732948</td>\n",
              "      <td>0.679618</td>\n",
              "      <td>0.574844</td>\n",
              "      <td>0.346010</td>\n",
              "      <td>0.714610</td>\n",
              "      <td>0.540150</td>\n",
              "      <td>0.280682</td>\n",
              "      <td>8.049253</td>\n",
              "    </tr>\n",
              "    <tr>\n",
              "      <th>6</th>\n",
              "      <td>A</td>\n",
              "      <td>A</td>\n",
              "      <td>A</td>\n",
              "      <td>C</td>\n",
              "      <td>B</td>\n",
              "      <td>D</td>\n",
              "      <td>A</td>\n",
              "      <td>E</td>\n",
              "      <td>A</td>\n",
              "      <td>N</td>\n",
              "      <td>...</td>\n",
              "      <td>0.686964</td>\n",
              "      <td>0.420667</td>\n",
              "      <td>0.648182</td>\n",
              "      <td>0.684501</td>\n",
              "      <td>0.956692</td>\n",
              "      <td>1.000773</td>\n",
              "      <td>0.776742</td>\n",
              "      <td>0.625849</td>\n",
              "      <td>0.250823</td>\n",
              "      <td>7.972260</td>\n",
              "    </tr>\n",
              "    <tr>\n",
              "      <th>...</th>\n",
              "      <td>...</td>\n",
              "      <td>...</td>\n",
              "      <td>...</td>\n",
              "      <td>...</td>\n",
              "      <td>...</td>\n",
              "      <td>...</td>\n",
              "      <td>...</td>\n",
              "      <td>...</td>\n",
              "      <td>...</td>\n",
              "      <td>...</td>\n",
              "      <td>...</td>\n",
              "      <td>...</td>\n",
              "      <td>...</td>\n",
              "      <td>...</td>\n",
              "      <td>...</td>\n",
              "      <td>...</td>\n",
              "      <td>...</td>\n",
              "      <td>...</td>\n",
              "      <td>...</td>\n",
              "      <td>...</td>\n",
              "      <td>...</td>\n",
              "    </tr>\n",
              "    <tr>\n",
              "      <th>499993</th>\n",
              "      <td>B</td>\n",
              "      <td>B</td>\n",
              "      <td>A</td>\n",
              "      <td>A</td>\n",
              "      <td>B</td>\n",
              "      <td>D</td>\n",
              "      <td>A</td>\n",
              "      <td>E</td>\n",
              "      <td>A</td>\n",
              "      <td>I</td>\n",
              "      <td>...</td>\n",
              "      <td>0.769792</td>\n",
              "      <td>0.450538</td>\n",
              "      <td>0.934360</td>\n",
              "      <td>1.005077</td>\n",
              "      <td>0.853726</td>\n",
              "      <td>0.422541</td>\n",
              "      <td>1.063463</td>\n",
              "      <td>0.697685</td>\n",
              "      <td>0.506404</td>\n",
              "      <td>7.945605</td>\n",
              "    </tr>\n",
              "    <tr>\n",
              "      <th>499996</th>\n",
              "      <td>A</td>\n",
              "      <td>B</td>\n",
              "      <td>A</td>\n",
              "      <td>C</td>\n",
              "      <td>B</td>\n",
              "      <td>B</td>\n",
              "      <td>A</td>\n",
              "      <td>E</td>\n",
              "      <td>E</td>\n",
              "      <td>F</td>\n",
              "      <td>...</td>\n",
              "      <td>0.528056</td>\n",
              "      <td>0.508502</td>\n",
              "      <td>0.358247</td>\n",
              "      <td>0.257825</td>\n",
              "      <td>0.433525</td>\n",
              "      <td>0.301015</td>\n",
              "      <td>0.268447</td>\n",
              "      <td>0.577055</td>\n",
              "      <td>0.823611</td>\n",
              "      <td>7.326118</td>\n",
              "    </tr>\n",
              "    <tr>\n",
              "      <th>499997</th>\n",
              "      <td>B</td>\n",
              "      <td>B</td>\n",
              "      <td>A</td>\n",
              "      <td>C</td>\n",
              "      <td>B</td>\n",
              "      <td>C</td>\n",
              "      <td>A</td>\n",
              "      <td>E</td>\n",
              "      <td>G</td>\n",
              "      <td>F</td>\n",
              "      <td>...</td>\n",
              "      <td>0.688747</td>\n",
              "      <td>0.372425</td>\n",
              "      <td>0.364936</td>\n",
              "      <td>0.383224</td>\n",
              "      <td>0.551825</td>\n",
              "      <td>0.661007</td>\n",
              "      <td>0.629606</td>\n",
              "      <td>0.714139</td>\n",
              "      <td>0.245732</td>\n",
              "      <td>8.706755</td>\n",
              "    </tr>\n",
              "    <tr>\n",
              "      <th>499998</th>\n",
              "      <td>A</td>\n",
              "      <td>B</td>\n",
              "      <td>A</td>\n",
              "      <td>C</td>\n",
              "      <td>B</td>\n",
              "      <td>B</td>\n",
              "      <td>A</td>\n",
              "      <td>E</td>\n",
              "      <td>E</td>\n",
              "      <td>I</td>\n",
              "      <td>...</td>\n",
              "      <td>0.344404</td>\n",
              "      <td>0.424243</td>\n",
              "      <td>0.382028</td>\n",
              "      <td>0.468819</td>\n",
              "      <td>0.351036</td>\n",
              "      <td>0.288768</td>\n",
              "      <td>0.611169</td>\n",
              "      <td>0.380254</td>\n",
              "      <td>0.332030</td>\n",
              "      <td>7.229569</td>\n",
              "    </tr>\n",
              "    <tr>\n",
              "      <th>499999</th>\n",
              "      <td>A</td>\n",
              "      <td>A</td>\n",
              "      <td>A</td>\n",
              "      <td>C</td>\n",
              "      <td>A</td>\n",
              "      <td>D</td>\n",
              "      <td>A</td>\n",
              "      <td>E</td>\n",
              "      <td>A</td>\n",
              "      <td>O</td>\n",
              "      <td>...</td>\n",
              "      <td>0.565347</td>\n",
              "      <td>0.328669</td>\n",
              "      <td>0.789165</td>\n",
              "      <td>0.960406</td>\n",
              "      <td>0.776019</td>\n",
              "      <td>0.734707</td>\n",
              "      <td>0.484392</td>\n",
              "      <td>0.639754</td>\n",
              "      <td>0.689317</td>\n",
              "      <td>8.631146</td>\n",
              "    </tr>\n",
              "  </tbody>\n",
              "</table>\n",
              "<p>300000 rows × 25 columns</p>\n",
              "</div>"
            ]
          },
          "metadata": {},
          "execution_count": 42
        }
      ],
      "metadata": {}
    },
    {
      "cell_type": "code",
      "execution_count": null,
      "source": [],
      "outputs": [],
      "metadata": {}
    }
  ]
}