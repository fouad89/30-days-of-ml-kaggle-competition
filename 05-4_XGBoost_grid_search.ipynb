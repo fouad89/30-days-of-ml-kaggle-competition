{
  "nbformat": 4,
  "nbformat_minor": 2,
  "metadata": {
    "orig_nbformat": 4,
    "language_info": {
      "name": "python",
      "version": "3.7.6",
      "mimetype": "text/x-python",
      "codemirror_mode": {
        "name": "ipython",
        "version": 3
      },
      "pygments_lexer": "ipython3",
      "nbconvert_exporter": "python",
      "file_extension": ".py"
    },
    "kernelspec": {
      "name": "python3",
      "display_name": "Python 3.7.6 64-bit ('base': conda)"
    },
    "interpreter": {
      "hash": "016f416f43c7de9d71e7f049375c6b8b903fae571cb02d2ed6c16dadea121115"
    },
    "colab": {
      "name": "05-XGBoost Hyperparamters.ipynb",
      "provenance": [],
      "collapsed_sections": []
    }
  },
  "cells": [
    {
      "cell_type": "markdown",
      "source": [
        "# Model 5\n",
        "Hyperparameter tuning for XGBoost using grid search\n",
        "\n",
        "## Restult\n",
        "Best Model: n_estimators =1500, learning_rate=0.05, max_depth=3\n",
        "Test data score: 0.72199 (low frequency targets removed)\n",
        "0.72158\n",
        "\n",
        "max_dept = 3 gave worse results. Lowest RMSE:  0.7227608322274359. Test Score: 0.72195\n",
        "\n",
        "Next is max_depth = 10\n",
        "\n",
        "\n",
        "## Future:\n"
      ],
      "metadata": {}
    },
    {
      "cell_type": "code",
      "execution_count": 59,
      "source": [
        "# reading data from google drive \n",
        "# data paths whether notebook is run locally or google colab\n",
        "import os\n",
        "try:\n",
        "    from google.colab import drive\n",
        "    drive.mount('/content/drive')\n",
        "    COMPETETION_PATH = \"/content/drive/MyDrive/30-days-of-ml-competition1\"\n",
        "    TRAIN_DATA_PATH = \"/content/drive/MyDrive/30-days-of-ml-competition1/data/train.csv\"\n",
        "    TEST_DATA_PATH = \"/content/drive/MyDrive/30-days-of-ml-competition1/data/test.csv\"\n",
        "    OUTPUT_PATH = \"/content/drive/MyDrive/30-days-of-ml-competition1/output\"\n",
        "except:\n",
        "    TRAIN_DATA_PATH = os.path.join(\"data\", \"train.csv\")\n",
        "    TEST_DATA_PATH = os.path.join(\"data\", \"test.csv\")\n",
        "\n",
        "print(f\"Training Path {TRAIN_DATA_PATH}\")\n",
        "print(f\"Testing Path {TEST_DATA_PATH}\")\n",
        "\n",
        "\n"
      ],
      "outputs": [
        {
          "output_type": "stream",
          "name": "stdout",
          "text": [
            "Training Path data/train.csv\n",
            "Testing Path data/test.csv\n"
          ]
        }
      ],
      "metadata": {
        "colab": {
          "base_uri": "https://localhost:8080/"
        },
        "id": "FeZXk9xlGyYa",
        "outputId": "3ce477bc-c49f-402b-a292-7b1e3b5f6860"
      }
    },
    {
      "cell_type": "code",
      "execution_count": 60,
      "source": [
        "\n",
        "# library imports\n",
        "import numpy as np \n",
        "import pandas as pd \n",
        "import matplotlib.pyplot as plt\n",
        "\n",
        "# preprocessing\n",
        "from sklearn.model_selection import train_test_split, cross_val_score\n",
        "from sklearn.model_selection import GridSearchCV\n",
        "from sklearn.impute import SimpleImputer\n",
        "from sklearn.preprocessing import StandardScaler, OneHotEncoder, OrdinalEncoder\n",
        "from sklearn.pipeline import Pipeline\n",
        "from sklearn.compose import ColumnTransformer\n",
        "\n",
        "# modeling\n",
        "from sklearn.ensemble import RandomForestRegressor\n",
        "from xgboost import XGBRegressor\n",
        "\n",
        "# evaluation\n",
        "from sklearn.metrics import mean_absolute_error, mean_squared_error"
      ],
      "outputs": [],
      "metadata": {
        "id": "RWEQJbdUWEyJ"
      }
    },
    {
      "cell_type": "code",
      "execution_count": 61,
      "source": [
        "def read_organise_data(train=TRAIN_DATA_PATH):\n",
        "    \"\"\"read the data from a path and splitting to features and target\n",
        "\n",
        "    Args:\n",
        "        train (path, optional): The path of training data file to. Defaults to TRAIN_DATA_PATH.\n",
        "\n",
        "    Returns:\n",
        "        X, y: X for features and y for target\n",
        "    \"\"\"\n",
        "    full_df = pd.read_csv(train, index_col=\"id\")\n",
        "    print(f\"Shape of Dataset: {full_df.shape}\")\n",
        "    return full_df\n",
        "\n",
        "df= read_organise_data()\n",
        "X_test = pd.read_csv(TEST_DATA_PATH, index_col='id')\n",
        "print(f\"Shape of Test set {X_test.shape}\")"
      ],
      "outputs": [
        {
          "output_type": "stream",
          "name": "stdout",
          "text": [
            "Shape of Dataset: (300000, 25)\n",
            "Shape of Test set (200000, 24)\n"
          ]
        }
      ],
      "metadata": {
        "colab": {
          "base_uri": "https://localhost:8080/"
        },
        "id": "EU2jthoy9Cm6",
        "outputId": "a4b3898d-790c-4fea-9aa1-6a5fd49e6813"
      }
    },
    {
      "cell_type": "markdown",
      "source": [
        "## Understanding Data"
      ],
      "metadata": {
        "id": "QIQ6r3X1WEyK"
      }
    },
    {
      "cell_type": "code",
      "execution_count": 62,
      "source": [
        "#df = df[(df.target>=6.9) & (df.target<10.4)]\n",
        "df.shape"
      ],
      "outputs": [
        {
          "output_type": "execute_result",
          "data": {
            "text/plain": [
              "(300000, 25)"
            ]
          },
          "metadata": {},
          "execution_count": 62
        }
      ],
      "metadata": {
        "colab": {
          "base_uri": "https://localhost:8080/",
          "height": 297
        },
        "id": "DoPvYqELWEyM",
        "outputId": "8aee2f35-3b47-4332-91e6-7b6576a62d3e"
      }
    },
    {
      "cell_type": "code",
      "execution_count": 41,
      "source": [
        "# checking for null values in the full dataset\n",
        "df.isnull().any().sum() # no null value in dataset"
      ],
      "outputs": [
        {
          "output_type": "execute_result",
          "data": {
            "text/plain": [
              "0"
            ]
          },
          "metadata": {},
          "execution_count": 41
        }
      ],
      "metadata": {
        "colab": {
          "base_uri": "https://localhost:8080/"
        },
        "id": "kdF_WWKbWEyN",
        "outputId": "ce8a3de2-3b5c-4833-a0aa-5e1e79f733e4"
      }
    },
    {
      "cell_type": "code",
      "execution_count": 63,
      "source": [
        "y = df.target.copy()\n",
        "X = df.drop('target', axis=1).copy()"
      ],
      "outputs": [],
      "metadata": {
        "id": "zmCXXJzhWEyO"
      }
    },
    {
      "cell_type": "code",
      "execution_count": 64,
      "source": [
        "# categorical columns start with cat\n",
        "cat_cnames = [cname for cname in X.columns if 'cat' in cname]\n",
        "# numerical columns starts with cont\n",
        "num_cnames = [cname for cname in X.columns if 'cont' in cname]"
      ],
      "outputs": [],
      "metadata": {}
    },
    {
      "cell_type": "code",
      "execution_count": 65,
      "source": [
        "ordinal_encoder = OrdinalEncoder()\n",
        "X[cat_cnames] = ordinal_encoder.fit_transform(X[cat_cnames])\n",
        "X_test[cat_cnames] = ordinal_encoder.transform(X_test[cat_cnames])\n"
      ],
      "outputs": [],
      "metadata": {}
    },
    {
      "cell_type": "code",
      "execution_count": 66,
      "source": [
        "# splitting the data\n",
        "X_train, X_valid, y_train, y_valid = train_test_split(X,y, test_size=0.1,\n",
        "                                                      random_state= 1)"
      ],
      "outputs": [],
      "metadata": {
        "id": "5pNen2jpWEyP"
      }
    },
    {
      "cell_type": "code",
      "execution_count": 67,
      "source": [
        "\n",
        "# checking the cardinality of the categorical columns\n",
        "for cname in cat_cnames:\n",
        "    num_unique = X[cname].nunique()\n",
        "    print(f\"{cname} has {num_unique}\")\n",
        "    if num_unique > 10:\n",
        "        print(f\"\\t{cname} has a high cardinality\")\n",
        "\n",
        "# eventhough cat9 col has more than 10 unique values, we will still use the OnehotEncoder "
      ],
      "outputs": [
        {
          "output_type": "stream",
          "name": "stdout",
          "text": [
            "cat0 has 2\n",
            "cat1 has 2\n",
            "cat2 has 2\n",
            "cat3 has 4\n",
            "cat4 has 4\n",
            "cat5 has 4\n",
            "cat6 has 8\n",
            "cat7 has 8\n",
            "cat8 has 7\n",
            "cat9 has 15\n",
            "\tcat9 has a high cardinality\n"
          ]
        }
      ],
      "metadata": {
        "colab": {
          "base_uri": "https://localhost:8080/"
        },
        "id": "ulfq78dIWEyQ",
        "outputId": "4895337a-b3b1-4405-b9d7-79b31c1994a6"
      }
    },
    {
      "cell_type": "code",
      "execution_count": 68,
      "source": [
        "X_train.head()"
      ],
      "outputs": [
        {
          "output_type": "execute_result",
          "data": {
            "text/plain": [
              "        cat0  cat1  cat2  cat3  cat4  cat5  cat6  cat7  cat8  cat9  ...  \\\n",
              "id                                                                  ...   \n",
              "213795   0.0   0.0   0.0   2.0   1.0   1.0   0.0   4.0   2.0   6.0  ...   \n",
              "329677   1.0   0.0   0.0   2.0   1.0   1.0   0.0   4.0   2.0   8.0  ...   \n",
              "333144   1.0   0.0   0.0   2.0   1.0   3.0   0.0   1.0   0.0   2.0  ...   \n",
              "382830   1.0   1.0   0.0   2.0   1.0   1.0   0.0   4.0   2.0   0.0  ...   \n",
              "329789   0.0   1.0   0.0   2.0   1.0   1.0   0.0   4.0   0.0  11.0  ...   \n",
              "\n",
              "           cont4     cont5     cont6     cont7     cont8     cont9    cont10  \\\n",
              "id                                                                             \n",
              "213795  0.686119  0.430419  0.150978  0.287723  0.226348  0.402948  0.322723   \n",
              "329677  0.897980  0.400800  1.023080  0.205725  0.319528  0.339233  0.277261   \n",
              "333144  0.287527  0.743913  0.396216  0.780235  0.343993  0.662579  0.450997   \n",
              "382830  0.324665  0.420632  0.534724  0.864813  0.436404  0.299311  0.716120   \n",
              "329789  0.280364  0.156929  0.341584  0.375121  0.818845  0.241667  0.753128   \n",
              "\n",
              "          cont11    cont12    cont13  \n",
              "id                                    \n",
              "213795  0.449588  0.594781  0.741928  \n",
              "329677  0.437804  0.415667  0.392423  \n",
              "333144  0.693391  0.968415  0.875109  \n",
              "382830  0.176346  0.416044  0.284034  \n",
              "329789  0.269681  0.486466  0.251513  \n",
              "\n",
              "[5 rows x 24 columns]"
            ],
            "text/html": [
              "<div>\n",
              "<style scoped>\n",
              "    .dataframe tbody tr th:only-of-type {\n",
              "        vertical-align: middle;\n",
              "    }\n",
              "\n",
              "    .dataframe tbody tr th {\n",
              "        vertical-align: top;\n",
              "    }\n",
              "\n",
              "    .dataframe thead th {\n",
              "        text-align: right;\n",
              "    }\n",
              "</style>\n",
              "<table border=\"1\" class=\"dataframe\">\n",
              "  <thead>\n",
              "    <tr style=\"text-align: right;\">\n",
              "      <th></th>\n",
              "      <th>cat0</th>\n",
              "      <th>cat1</th>\n",
              "      <th>cat2</th>\n",
              "      <th>cat3</th>\n",
              "      <th>cat4</th>\n",
              "      <th>cat5</th>\n",
              "      <th>cat6</th>\n",
              "      <th>cat7</th>\n",
              "      <th>cat8</th>\n",
              "      <th>cat9</th>\n",
              "      <th>...</th>\n",
              "      <th>cont4</th>\n",
              "      <th>cont5</th>\n",
              "      <th>cont6</th>\n",
              "      <th>cont7</th>\n",
              "      <th>cont8</th>\n",
              "      <th>cont9</th>\n",
              "      <th>cont10</th>\n",
              "      <th>cont11</th>\n",
              "      <th>cont12</th>\n",
              "      <th>cont13</th>\n",
              "    </tr>\n",
              "    <tr>\n",
              "      <th>id</th>\n",
              "      <th></th>\n",
              "      <th></th>\n",
              "      <th></th>\n",
              "      <th></th>\n",
              "      <th></th>\n",
              "      <th></th>\n",
              "      <th></th>\n",
              "      <th></th>\n",
              "      <th></th>\n",
              "      <th></th>\n",
              "      <th></th>\n",
              "      <th></th>\n",
              "      <th></th>\n",
              "      <th></th>\n",
              "      <th></th>\n",
              "      <th></th>\n",
              "      <th></th>\n",
              "      <th></th>\n",
              "      <th></th>\n",
              "      <th></th>\n",
              "      <th></th>\n",
              "    </tr>\n",
              "  </thead>\n",
              "  <tbody>\n",
              "    <tr>\n",
              "      <th>213795</th>\n",
              "      <td>0.0</td>\n",
              "      <td>0.0</td>\n",
              "      <td>0.0</td>\n",
              "      <td>2.0</td>\n",
              "      <td>1.0</td>\n",
              "      <td>1.0</td>\n",
              "      <td>0.0</td>\n",
              "      <td>4.0</td>\n",
              "      <td>2.0</td>\n",
              "      <td>6.0</td>\n",
              "      <td>...</td>\n",
              "      <td>0.686119</td>\n",
              "      <td>0.430419</td>\n",
              "      <td>0.150978</td>\n",
              "      <td>0.287723</td>\n",
              "      <td>0.226348</td>\n",
              "      <td>0.402948</td>\n",
              "      <td>0.322723</td>\n",
              "      <td>0.449588</td>\n",
              "      <td>0.594781</td>\n",
              "      <td>0.741928</td>\n",
              "    </tr>\n",
              "    <tr>\n",
              "      <th>329677</th>\n",
              "      <td>1.0</td>\n",
              "      <td>0.0</td>\n",
              "      <td>0.0</td>\n",
              "      <td>2.0</td>\n",
              "      <td>1.0</td>\n",
              "      <td>1.0</td>\n",
              "      <td>0.0</td>\n",
              "      <td>4.0</td>\n",
              "      <td>2.0</td>\n",
              "      <td>8.0</td>\n",
              "      <td>...</td>\n",
              "      <td>0.897980</td>\n",
              "      <td>0.400800</td>\n",
              "      <td>1.023080</td>\n",
              "      <td>0.205725</td>\n",
              "      <td>0.319528</td>\n",
              "      <td>0.339233</td>\n",
              "      <td>0.277261</td>\n",
              "      <td>0.437804</td>\n",
              "      <td>0.415667</td>\n",
              "      <td>0.392423</td>\n",
              "    </tr>\n",
              "    <tr>\n",
              "      <th>333144</th>\n",
              "      <td>1.0</td>\n",
              "      <td>0.0</td>\n",
              "      <td>0.0</td>\n",
              "      <td>2.0</td>\n",
              "      <td>1.0</td>\n",
              "      <td>3.0</td>\n",
              "      <td>0.0</td>\n",
              "      <td>1.0</td>\n",
              "      <td>0.0</td>\n",
              "      <td>2.0</td>\n",
              "      <td>...</td>\n",
              "      <td>0.287527</td>\n",
              "      <td>0.743913</td>\n",
              "      <td>0.396216</td>\n",
              "      <td>0.780235</td>\n",
              "      <td>0.343993</td>\n",
              "      <td>0.662579</td>\n",
              "      <td>0.450997</td>\n",
              "      <td>0.693391</td>\n",
              "      <td>0.968415</td>\n",
              "      <td>0.875109</td>\n",
              "    </tr>\n",
              "    <tr>\n",
              "      <th>382830</th>\n",
              "      <td>1.0</td>\n",
              "      <td>1.0</td>\n",
              "      <td>0.0</td>\n",
              "      <td>2.0</td>\n",
              "      <td>1.0</td>\n",
              "      <td>1.0</td>\n",
              "      <td>0.0</td>\n",
              "      <td>4.0</td>\n",
              "      <td>2.0</td>\n",
              "      <td>0.0</td>\n",
              "      <td>...</td>\n",
              "      <td>0.324665</td>\n",
              "      <td>0.420632</td>\n",
              "      <td>0.534724</td>\n",
              "      <td>0.864813</td>\n",
              "      <td>0.436404</td>\n",
              "      <td>0.299311</td>\n",
              "      <td>0.716120</td>\n",
              "      <td>0.176346</td>\n",
              "      <td>0.416044</td>\n",
              "      <td>0.284034</td>\n",
              "    </tr>\n",
              "    <tr>\n",
              "      <th>329789</th>\n",
              "      <td>0.0</td>\n",
              "      <td>1.0</td>\n",
              "      <td>0.0</td>\n",
              "      <td>2.0</td>\n",
              "      <td>1.0</td>\n",
              "      <td>1.0</td>\n",
              "      <td>0.0</td>\n",
              "      <td>4.0</td>\n",
              "      <td>0.0</td>\n",
              "      <td>11.0</td>\n",
              "      <td>...</td>\n",
              "      <td>0.280364</td>\n",
              "      <td>0.156929</td>\n",
              "      <td>0.341584</td>\n",
              "      <td>0.375121</td>\n",
              "      <td>0.818845</td>\n",
              "      <td>0.241667</td>\n",
              "      <td>0.753128</td>\n",
              "      <td>0.269681</td>\n",
              "      <td>0.486466</td>\n",
              "      <td>0.251513</td>\n",
              "    </tr>\n",
              "  </tbody>\n",
              "</table>\n",
              "<p>5 rows × 24 columns</p>\n",
              "</div>"
            ]
          },
          "metadata": {},
          "execution_count": 68
        }
      ],
      "metadata": {}
    },
    {
      "cell_type": "code",
      "execution_count": 49,
      "source": [
        "# parameters to search \n",
        "params = { 'max_depth': [3],\n",
        "           'learning_rate': [0.01, 0.05],\n",
        "           'n_estimators': [300, 600, 900, 1200, 1500]}\n",
        "\n",
        "\n",
        "def param_tuning(params):\n",
        "\n",
        "        model = XGBRegressor(n_estimators=1000, max_depth=3, \n",
        "                        learning_rate=0.01, objective='reg:squarederror', random_state=1)\n",
        "        grid_search = GridSearchCV(estimator=model, \n",
        "                        param_grid=params,\n",
        "                        scoring='neg_mean_squared_error', \n",
        "                        verbose=3,\n",
        "                        cv=2)\n",
        "        grid_search.fit(X, y)\n",
        "        print(\"Best parameters:\", grid_search.best_params_)\n",
        "        print(\"Lowest RMSE: \", (-grid_search.best_score_)**0.5)\n",
        "        return grid_search"
      ],
      "outputs": [],
      "metadata": {
        "id": "dQNoo1-ZP4Kd"
      }
    },
    {
      "cell_type": "code",
      "execution_count": 50,
      "source": [
        "grid_search_results = param_tuning(params)"
      ],
      "outputs": [
        {
          "output_type": "stream",
          "name": "stdout",
          "text": [
            "Fitting 2 folds for each of 10 candidates, totalling 20 fits\n",
            "[CV] learning_rate=0.01, max_depth=3, n_estimators=300 ...............\n"
          ]
        },
        {
          "output_type": "stream",
          "name": "stderr",
          "text": [
            "[Parallel(n_jobs=1)]: Using backend SequentialBackend with 1 concurrent workers.\n"
          ]
        },
        {
          "output_type": "stream",
          "name": "stdout",
          "text": [
            "[CV]  learning_rate=0.01, max_depth=3, n_estimators=300, score=-0.664, total=  49.9s\n",
            "[CV] learning_rate=0.01, max_depth=3, n_estimators=300 ...............\n"
          ]
        },
        {
          "output_type": "stream",
          "name": "stderr",
          "text": [
            "[Parallel(n_jobs=1)]: Done   1 out of   1 | elapsed:   49.9s remaining:    0.0s\n"
          ]
        },
        {
          "output_type": "stream",
          "name": "stdout",
          "text": [
            "[CV]  learning_rate=0.01, max_depth=3, n_estimators=300, score=-0.662, total=  48.6s\n",
            "[CV] learning_rate=0.01, max_depth=3, n_estimators=600 ...............\n"
          ]
        },
        {
          "output_type": "stream",
          "name": "stderr",
          "text": [
            "[Parallel(n_jobs=1)]: Done   2 out of   2 | elapsed:  1.6min remaining:    0.0s\n"
          ]
        },
        {
          "output_type": "stream",
          "name": "stdout",
          "text": [
            "[CV]  learning_rate=0.01, max_depth=3, n_estimators=600, score=-0.515, total= 1.7min\n",
            "[CV] learning_rate=0.01, max_depth=3, n_estimators=600 ...............\n",
            "[CV]  learning_rate=0.01, max_depth=3, n_estimators=600, score=-0.514, total= 1.5min\n",
            "[CV] learning_rate=0.01, max_depth=3, n_estimators=900 ...............\n",
            "[CV]  learning_rate=0.01, max_depth=3, n_estimators=900, score=-0.511, total= 1.8min\n",
            "[CV] learning_rate=0.01, max_depth=3, n_estimators=900 ...............\n",
            "[CV]  learning_rate=0.01, max_depth=3, n_estimators=900, score=-0.511, total= 1.8min\n",
            "[CV] learning_rate=0.01, max_depth=3, n_estimators=1200 ..............\n",
            "[CV]  learning_rate=0.01, max_depth=3, n_estimators=1200, score=-0.509, total= 2.5min\n",
            "[CV] learning_rate=0.01, max_depth=3, n_estimators=1200 ..............\n",
            "[CV]  learning_rate=0.01, max_depth=3, n_estimators=1200, score=-0.509, total= 2.5min\n",
            "[CV] learning_rate=0.01, max_depth=3, n_estimators=1500 ..............\n",
            "[CV]  learning_rate=0.01, max_depth=3, n_estimators=1500, score=-0.508, total= 5.0min\n",
            "[CV] learning_rate=0.01, max_depth=3, n_estimators=1500 ..............\n",
            "[CV]  learning_rate=0.01, max_depth=3, n_estimators=1500, score=-0.507, total= 4.0min\n",
            "[CV] learning_rate=0.05, max_depth=3, n_estimators=300 ...............\n",
            "[CV]  learning_rate=0.05, max_depth=3, n_estimators=300, score=-0.508, total=  46.0s\n",
            "[CV] learning_rate=0.05, max_depth=3, n_estimators=300 ...............\n",
            "[CV]  learning_rate=0.05, max_depth=3, n_estimators=300, score=-0.507, total=  45.4s\n",
            "[CV] learning_rate=0.05, max_depth=3, n_estimators=600 ...............\n",
            "[CV]  learning_rate=0.05, max_depth=3, n_estimators=600, score=-0.503, total= 1.6min\n",
            "[CV] learning_rate=0.05, max_depth=3, n_estimators=600 ...............\n",
            "[CV]  learning_rate=0.05, max_depth=3, n_estimators=600, score=-0.502, total= 1.4min\n",
            "[CV] learning_rate=0.05, max_depth=3, n_estimators=900 ...............\n",
            "[CV]  learning_rate=0.05, max_depth=3, n_estimators=900, score=-0.500, total= 2.0min\n",
            "[CV] learning_rate=0.05, max_depth=3, n_estimators=900 ...............\n",
            "[CV]  learning_rate=0.05, max_depth=3, n_estimators=900, score=-0.499, total= 2.6min\n",
            "[CV] learning_rate=0.05, max_depth=3, n_estimators=1200 ..............\n",
            "[CV]  learning_rate=0.05, max_depth=3, n_estimators=1200, score=-0.499, total= 3.2min\n",
            "[CV] learning_rate=0.05, max_depth=3, n_estimators=1200 ..............\n",
            "[CV]  learning_rate=0.05, max_depth=3, n_estimators=1200, score=-0.498, total= 3.9min\n",
            "[CV] learning_rate=0.05, max_depth=3, n_estimators=1500 ..............\n",
            "[CV]  learning_rate=0.05, max_depth=3, n_estimators=1500, score=-0.498, total= 3.8min\n",
            "[CV] learning_rate=0.05, max_depth=3, n_estimators=1500 ..............\n",
            "[CV]  learning_rate=0.05, max_depth=3, n_estimators=1500, score=-0.497, total= 3.5min\n"
          ]
        },
        {
          "output_type": "stream",
          "name": "stderr",
          "text": [
            "[Parallel(n_jobs=1)]: Done  20 out of  20 | elapsed: 45.9min finished\n"
          ]
        },
        {
          "output_type": "stream",
          "name": "stdout",
          "text": [
            "Best parameters: {'learning_rate': 0.05, 'max_depth': 3, 'n_estimators': 1500}\n",
            "Lowest RMSE:  0.7053222498605214\n"
          ]
        }
      ],
      "metadata": {
        "colab": {
          "base_uri": "https://localhost:8080/"
        },
        "id": "iLsnhZOiBnTe",
        "outputId": "55d6cd8d-4699-4e9b-a6fa-96949e3f7ac6"
      }
    },
    {
      "cell_type": "code",
      "execution_count": 51,
      "source": [
        "grid_search_results"
      ],
      "outputs": [
        {
          "output_type": "execute_result",
          "data": {
            "text/plain": [
              "GridSearchCV(cv=2, error_score=nan,\n",
              "             estimator=XGBRegressor(base_score=None, booster=None,\n",
              "                                    colsample_bylevel=None,\n",
              "                                    colsample_bynode=None,\n",
              "                                    colsample_bytree=None, gamma=None,\n",
              "                                    gpu_id=None, importance_type='gain',\n",
              "                                    interaction_constraints=None,\n",
              "                                    learning_rate=0.01, max_delta_step=None,\n",
              "                                    max_depth=3, min_child_weight=None,\n",
              "                                    missing=nan, monotone_constraints=None,\n",
              "                                    n_estimator...\n",
              "                                    random_state=1, reg_alpha=None,\n",
              "                                    reg_lambda=None, scale_pos_weight=None,\n",
              "                                    subsample=None, tree_method=None,\n",
              "                                    validate_parameters=None, verbosity=None),\n",
              "             iid='deprecated', n_jobs=None,\n",
              "             param_grid={'learning_rate': [0.01, 0.05], 'max_depth': [3],\n",
              "                         'n_estimators': [300, 600, 900, 1200, 1500]},\n",
              "             pre_dispatch='2*n_jobs', refit=True, return_train_score=False,\n",
              "             scoring='neg_mean_squared_error', verbose=3)"
            ]
          },
          "metadata": {},
          "execution_count": 51
        }
      ],
      "metadata": {
        "id": "W7_W8NPOwpY_"
      }
    },
    {
      "cell_type": "code",
      "execution_count": 69,
      "source": [
        "print(f\"Best Model {grid_search_results.best_estimator_}\")\n",
        "best_model =  grid_search_results.best_estimator_"
      ],
      "outputs": [
        {
          "output_type": "stream",
          "name": "stdout",
          "text": [
            "Best Model XGBRegressor(base_score=0.5, booster='gbtree', colsample_bylevel=1,\n",
            "             colsample_bynode=1, colsample_bytree=1, gamma=0, gpu_id=-1,\n",
            "             importance_type='gain', interaction_constraints='',\n",
            "             learning_rate=0.05, max_delta_step=0, max_depth=3,\n",
            "             min_child_weight=1, missing=nan, monotone_constraints='()',\n",
            "             n_estimators=1500, n_jobs=0, num_parallel_tree=1,\n",
            "             objective='reg:squarederror', random_state=1, reg_alpha=0,\n",
            "             reg_lambda=1, scale_pos_weight=1, subsample=1, tree_method='exact',\n",
            "             validate_parameters=1, verbosity=None)\n"
          ]
        }
      ],
      "metadata": {}
    },
    {
      "cell_type": "code",
      "execution_count": 70,
      "source": [
        "best_model.fit(X,y)"
      ],
      "outputs": [
        {
          "output_type": "execute_result",
          "data": {
            "text/plain": [
              "XGBRegressor(base_score=0.5, booster='gbtree', colsample_bylevel=1,\n",
              "             colsample_bynode=1, colsample_bytree=1, gamma=0, gpu_id=-1,\n",
              "             importance_type='gain', interaction_constraints='',\n",
              "             learning_rate=0.05, max_delta_step=0, max_depth=3,\n",
              "             min_child_weight=1, missing=nan, monotone_constraints='()',\n",
              "             n_estimators=1500, n_jobs=0, num_parallel_tree=1,\n",
              "             objective='reg:squarederror', random_state=1, reg_alpha=0,\n",
              "             reg_lambda=1, scale_pos_weight=1, subsample=1, tree_method='exact',\n",
              "             validate_parameters=1, verbosity=None)"
            ]
          },
          "metadata": {},
          "execution_count": 70
        }
      ],
      "metadata": {}
    },
    {
      "cell_type": "code",
      "execution_count": 77,
      "source": [
        "grid_search_results.predict(X_valid)"
      ],
      "outputs": [
        {
          "output_type": "execute_result",
          "data": {
            "text/plain": [
              "array([8.218746, 8.227535, 8.113871, ..., 8.464844, 8.390709, 8.352545],\n",
              "      dtype=float32)"
            ]
          },
          "metadata": {},
          "execution_count": 77
        }
      ],
      "metadata": {}
    },
    {
      "cell_type": "code",
      "execution_count": 71,
      "source": [
        "prediction_valid = best_model.predict(X_valid)\n",
        "print(mean_squared_error(y_valid, prediction_valid)**0.5)"
      ],
      "outputs": [
        {
          "output_type": "stream",
          "name": "stdout",
          "text": [
            "0.7091410079672386\n"
          ]
        }
      ],
      "metadata": {}
    },
    {
      "cell_type": "code",
      "execution_count": 79,
      "source": [
        "predictions = grid_search_results.predict(X_test)\n",
        "OUTPUT_PATH = 'output'\n",
        "def output_submission(prediction, file_name):\n",
        "    \"\"\"creating a kaggle submission file\n",
        "\n",
        "    Args:\n",
        "        prediction (array): an array of predictions of the test dataset\n",
        "        file_name (string): a string for the name without the extension\n",
        "    \"\"\"\n",
        "    my_submission = pd.DataFrame({'target': predictions},\n",
        "                                 index=X_test.index)\n",
        "    #my_submission.set_index('id')\n",
        "    file_path = os.path.join(OUTPUT_PATH,file_name)\n",
        "    my_submission.to_csv(f'{file_path}.csv')\n",
        "    print(f'A submission file has been made at {file_path}')"
      ],
      "outputs": [],
      "metadata": {}
    },
    {
      "cell_type": "code",
      "execution_count": 80,
      "source": [
        "output_submission(predictions, \"Submission5-4\")"
      ],
      "outputs": [
        {
          "output_type": "stream",
          "name": "stdout",
          "text": [
            "A submission file has been made at output/Submission5-4\n"
          ]
        }
      ],
      "metadata": {}
    },
    {
      "cell_type": "code",
      "execution_count": 53,
      "source": [
        "X"
      ],
      "outputs": [
        {
          "output_type": "execute_result",
          "data": {
            "text/plain": [
              "        cat0  cat1  cat2  cat3  cat4  cat5  cat6  cat7  cat8  cat9  ...  \\\n",
              "id                                                                  ...   \n",
              "1        1.0   1.0   1.0   2.0   1.0   1.0   0.0   4.0   2.0  13.0  ...   \n",
              "2        1.0   1.0   0.0   0.0   1.0   3.0   0.0   5.0   0.0  14.0  ...   \n",
              "3        0.0   0.0   0.0   2.0   1.0   3.0   0.0   3.0   0.0   5.0  ...   \n",
              "4        1.0   1.0   0.0   2.0   1.0   3.0   0.0   4.0   2.0  10.0  ...   \n",
              "6        0.0   0.0   0.0   2.0   1.0   3.0   0.0   4.0   0.0  13.0  ...   \n",
              "...      ...   ...   ...   ...   ...   ...   ...   ...   ...   ...  ...   \n",
              "499993   1.0   1.0   0.0   0.0   1.0   3.0   0.0   4.0   0.0   8.0  ...   \n",
              "499996   0.0   1.0   0.0   2.0   1.0   1.0   0.0   4.0   4.0   5.0  ...   \n",
              "499997   1.0   1.0   0.0   2.0   1.0   2.0   0.0   4.0   6.0   5.0  ...   \n",
              "499998   0.0   1.0   0.0   2.0   1.0   1.0   0.0   4.0   4.0   8.0  ...   \n",
              "499999   0.0   0.0   0.0   2.0   0.0   3.0   0.0   4.0   0.0  14.0  ...   \n",
              "\n",
              "           cont4     cont5     cont6     cont7     cont8     cont9    cont10  \\\n",
              "id                                                                             \n",
              "1       0.610706  0.400361  0.160266  0.310921  0.389470  0.267559  0.237281   \n",
              "2       0.276853  0.533087  0.558922  0.516294  0.594928  0.341439  0.906013   \n",
              "3       0.285074  0.650609  0.375348  0.902567  0.555205  0.843531  0.748809   \n",
              "4       0.284667  0.668980  0.239061  0.732948  0.679618  0.574844  0.346010   \n",
              "6       0.287595  0.686964  0.420667  0.648182  0.684501  0.956692  1.000773   \n",
              "...          ...       ...       ...       ...       ...       ...       ...   \n",
              "499993  0.307883  0.769792  0.450538  0.934360  1.005077  0.853726  0.422541   \n",
              "499996  0.736713  0.528056  0.508502  0.358247  0.257825  0.433525  0.301015   \n",
              "499997  0.277074  0.688747  0.372425  0.364936  0.383224  0.551825  0.661007   \n",
              "499998  0.805963  0.344404  0.424243  0.382028  0.468819  0.351036  0.288768   \n",
              "499999  0.276785  0.565347  0.328669  0.789165  0.960406  0.776019  0.734707   \n",
              "\n",
              "          cont11    cont12    cont13  \n",
              "id                                    \n",
              "1       0.377873  0.322401  0.869850  \n",
              "2       0.921701  0.261975  0.465083  \n",
              "3       0.620126  0.541474  0.763846  \n",
              "4       0.714610  0.540150  0.280682  \n",
              "6       0.776742  0.625849  0.250823  \n",
              "...          ...       ...       ...  \n",
              "499993  1.063463  0.697685  0.506404  \n",
              "499996  0.268447  0.577055  0.823611  \n",
              "499997  0.629606  0.714139  0.245732  \n",
              "499998  0.611169  0.380254  0.332030  \n",
              "499999  0.484392  0.639754  0.689317  \n",
              "\n",
              "[298733 rows x 24 columns]"
            ],
            "text/html": [
              "<div>\n",
              "<style scoped>\n",
              "    .dataframe tbody tr th:only-of-type {\n",
              "        vertical-align: middle;\n",
              "    }\n",
              "\n",
              "    .dataframe tbody tr th {\n",
              "        vertical-align: top;\n",
              "    }\n",
              "\n",
              "    .dataframe thead th {\n",
              "        text-align: right;\n",
              "    }\n",
              "</style>\n",
              "<table border=\"1\" class=\"dataframe\">\n",
              "  <thead>\n",
              "    <tr style=\"text-align: right;\">\n",
              "      <th></th>\n",
              "      <th>cat0</th>\n",
              "      <th>cat1</th>\n",
              "      <th>cat2</th>\n",
              "      <th>cat3</th>\n",
              "      <th>cat4</th>\n",
              "      <th>cat5</th>\n",
              "      <th>cat6</th>\n",
              "      <th>cat7</th>\n",
              "      <th>cat8</th>\n",
              "      <th>cat9</th>\n",
              "      <th>...</th>\n",
              "      <th>cont4</th>\n",
              "      <th>cont5</th>\n",
              "      <th>cont6</th>\n",
              "      <th>cont7</th>\n",
              "      <th>cont8</th>\n",
              "      <th>cont9</th>\n",
              "      <th>cont10</th>\n",
              "      <th>cont11</th>\n",
              "      <th>cont12</th>\n",
              "      <th>cont13</th>\n",
              "    </tr>\n",
              "    <tr>\n",
              "      <th>id</th>\n",
              "      <th></th>\n",
              "      <th></th>\n",
              "      <th></th>\n",
              "      <th></th>\n",
              "      <th></th>\n",
              "      <th></th>\n",
              "      <th></th>\n",
              "      <th></th>\n",
              "      <th></th>\n",
              "      <th></th>\n",
              "      <th></th>\n",
              "      <th></th>\n",
              "      <th></th>\n",
              "      <th></th>\n",
              "      <th></th>\n",
              "      <th></th>\n",
              "      <th></th>\n",
              "      <th></th>\n",
              "      <th></th>\n",
              "      <th></th>\n",
              "      <th></th>\n",
              "    </tr>\n",
              "  </thead>\n",
              "  <tbody>\n",
              "    <tr>\n",
              "      <th>1</th>\n",
              "      <td>1.0</td>\n",
              "      <td>1.0</td>\n",
              "      <td>1.0</td>\n",
              "      <td>2.0</td>\n",
              "      <td>1.0</td>\n",
              "      <td>1.0</td>\n",
              "      <td>0.0</td>\n",
              "      <td>4.0</td>\n",
              "      <td>2.0</td>\n",
              "      <td>13.0</td>\n",
              "      <td>...</td>\n",
              "      <td>0.610706</td>\n",
              "      <td>0.400361</td>\n",
              "      <td>0.160266</td>\n",
              "      <td>0.310921</td>\n",
              "      <td>0.389470</td>\n",
              "      <td>0.267559</td>\n",
              "      <td>0.237281</td>\n",
              "      <td>0.377873</td>\n",
              "      <td>0.322401</td>\n",
              "      <td>0.869850</td>\n",
              "    </tr>\n",
              "    <tr>\n",
              "      <th>2</th>\n",
              "      <td>1.0</td>\n",
              "      <td>1.0</td>\n",
              "      <td>0.0</td>\n",
              "      <td>0.0</td>\n",
              "      <td>1.0</td>\n",
              "      <td>3.0</td>\n",
              "      <td>0.0</td>\n",
              "      <td>5.0</td>\n",
              "      <td>0.0</td>\n",
              "      <td>14.0</td>\n",
              "      <td>...</td>\n",
              "      <td>0.276853</td>\n",
              "      <td>0.533087</td>\n",
              "      <td>0.558922</td>\n",
              "      <td>0.516294</td>\n",
              "      <td>0.594928</td>\n",
              "      <td>0.341439</td>\n",
              "      <td>0.906013</td>\n",
              "      <td>0.921701</td>\n",
              "      <td>0.261975</td>\n",
              "      <td>0.465083</td>\n",
              "    </tr>\n",
              "    <tr>\n",
              "      <th>3</th>\n",
              "      <td>0.0</td>\n",
              "      <td>0.0</td>\n",
              "      <td>0.0</td>\n",
              "      <td>2.0</td>\n",
              "      <td>1.0</td>\n",
              "      <td>3.0</td>\n",
              "      <td>0.0</td>\n",
              "      <td>3.0</td>\n",
              "      <td>0.0</td>\n",
              "      <td>5.0</td>\n",
              "      <td>...</td>\n",
              "      <td>0.285074</td>\n",
              "      <td>0.650609</td>\n",
              "      <td>0.375348</td>\n",
              "      <td>0.902567</td>\n",
              "      <td>0.555205</td>\n",
              "      <td>0.843531</td>\n",
              "      <td>0.748809</td>\n",
              "      <td>0.620126</td>\n",
              "      <td>0.541474</td>\n",
              "      <td>0.763846</td>\n",
              "    </tr>\n",
              "    <tr>\n",
              "      <th>4</th>\n",
              "      <td>1.0</td>\n",
              "      <td>1.0</td>\n",
              "      <td>0.0</td>\n",
              "      <td>2.0</td>\n",
              "      <td>1.0</td>\n",
              "      <td>3.0</td>\n",
              "      <td>0.0</td>\n",
              "      <td>4.0</td>\n",
              "      <td>2.0</td>\n",
              "      <td>10.0</td>\n",
              "      <td>...</td>\n",
              "      <td>0.284667</td>\n",
              "      <td>0.668980</td>\n",
              "      <td>0.239061</td>\n",
              "      <td>0.732948</td>\n",
              "      <td>0.679618</td>\n",
              "      <td>0.574844</td>\n",
              "      <td>0.346010</td>\n",
              "      <td>0.714610</td>\n",
              "      <td>0.540150</td>\n",
              "      <td>0.280682</td>\n",
              "    </tr>\n",
              "    <tr>\n",
              "      <th>6</th>\n",
              "      <td>0.0</td>\n",
              "      <td>0.0</td>\n",
              "      <td>0.0</td>\n",
              "      <td>2.0</td>\n",
              "      <td>1.0</td>\n",
              "      <td>3.0</td>\n",
              "      <td>0.0</td>\n",
              "      <td>4.0</td>\n",
              "      <td>0.0</td>\n",
              "      <td>13.0</td>\n",
              "      <td>...</td>\n",
              "      <td>0.287595</td>\n",
              "      <td>0.686964</td>\n",
              "      <td>0.420667</td>\n",
              "      <td>0.648182</td>\n",
              "      <td>0.684501</td>\n",
              "      <td>0.956692</td>\n",
              "      <td>1.000773</td>\n",
              "      <td>0.776742</td>\n",
              "      <td>0.625849</td>\n",
              "      <td>0.250823</td>\n",
              "    </tr>\n",
              "    <tr>\n",
              "      <th>...</th>\n",
              "      <td>...</td>\n",
              "      <td>...</td>\n",
              "      <td>...</td>\n",
              "      <td>...</td>\n",
              "      <td>...</td>\n",
              "      <td>...</td>\n",
              "      <td>...</td>\n",
              "      <td>...</td>\n",
              "      <td>...</td>\n",
              "      <td>...</td>\n",
              "      <td>...</td>\n",
              "      <td>...</td>\n",
              "      <td>...</td>\n",
              "      <td>...</td>\n",
              "      <td>...</td>\n",
              "      <td>...</td>\n",
              "      <td>...</td>\n",
              "      <td>...</td>\n",
              "      <td>...</td>\n",
              "      <td>...</td>\n",
              "      <td>...</td>\n",
              "    </tr>\n",
              "    <tr>\n",
              "      <th>499993</th>\n",
              "      <td>1.0</td>\n",
              "      <td>1.0</td>\n",
              "      <td>0.0</td>\n",
              "      <td>0.0</td>\n",
              "      <td>1.0</td>\n",
              "      <td>3.0</td>\n",
              "      <td>0.0</td>\n",
              "      <td>4.0</td>\n",
              "      <td>0.0</td>\n",
              "      <td>8.0</td>\n",
              "      <td>...</td>\n",
              "      <td>0.307883</td>\n",
              "      <td>0.769792</td>\n",
              "      <td>0.450538</td>\n",
              "      <td>0.934360</td>\n",
              "      <td>1.005077</td>\n",
              "      <td>0.853726</td>\n",
              "      <td>0.422541</td>\n",
              "      <td>1.063463</td>\n",
              "      <td>0.697685</td>\n",
              "      <td>0.506404</td>\n",
              "    </tr>\n",
              "    <tr>\n",
              "      <th>499996</th>\n",
              "      <td>0.0</td>\n",
              "      <td>1.0</td>\n",
              "      <td>0.0</td>\n",
              "      <td>2.0</td>\n",
              "      <td>1.0</td>\n",
              "      <td>1.0</td>\n",
              "      <td>0.0</td>\n",
              "      <td>4.0</td>\n",
              "      <td>4.0</td>\n",
              "      <td>5.0</td>\n",
              "      <td>...</td>\n",
              "      <td>0.736713</td>\n",
              "      <td>0.528056</td>\n",
              "      <td>0.508502</td>\n",
              "      <td>0.358247</td>\n",
              "      <td>0.257825</td>\n",
              "      <td>0.433525</td>\n",
              "      <td>0.301015</td>\n",
              "      <td>0.268447</td>\n",
              "      <td>0.577055</td>\n",
              "      <td>0.823611</td>\n",
              "    </tr>\n",
              "    <tr>\n",
              "      <th>499997</th>\n",
              "      <td>1.0</td>\n",
              "      <td>1.0</td>\n",
              "      <td>0.0</td>\n",
              "      <td>2.0</td>\n",
              "      <td>1.0</td>\n",
              "      <td>2.0</td>\n",
              "      <td>0.0</td>\n",
              "      <td>4.0</td>\n",
              "      <td>6.0</td>\n",
              "      <td>5.0</td>\n",
              "      <td>...</td>\n",
              "      <td>0.277074</td>\n",
              "      <td>0.688747</td>\n",
              "      <td>0.372425</td>\n",
              "      <td>0.364936</td>\n",
              "      <td>0.383224</td>\n",
              "      <td>0.551825</td>\n",
              "      <td>0.661007</td>\n",
              "      <td>0.629606</td>\n",
              "      <td>0.714139</td>\n",
              "      <td>0.245732</td>\n",
              "    </tr>\n",
              "    <tr>\n",
              "      <th>499998</th>\n",
              "      <td>0.0</td>\n",
              "      <td>1.0</td>\n",
              "      <td>0.0</td>\n",
              "      <td>2.0</td>\n",
              "      <td>1.0</td>\n",
              "      <td>1.0</td>\n",
              "      <td>0.0</td>\n",
              "      <td>4.0</td>\n",
              "      <td>4.0</td>\n",
              "      <td>8.0</td>\n",
              "      <td>...</td>\n",
              "      <td>0.805963</td>\n",
              "      <td>0.344404</td>\n",
              "      <td>0.424243</td>\n",
              "      <td>0.382028</td>\n",
              "      <td>0.468819</td>\n",
              "      <td>0.351036</td>\n",
              "      <td>0.288768</td>\n",
              "      <td>0.611169</td>\n",
              "      <td>0.380254</td>\n",
              "      <td>0.332030</td>\n",
              "    </tr>\n",
              "    <tr>\n",
              "      <th>499999</th>\n",
              "      <td>0.0</td>\n",
              "      <td>0.0</td>\n",
              "      <td>0.0</td>\n",
              "      <td>2.0</td>\n",
              "      <td>0.0</td>\n",
              "      <td>3.0</td>\n",
              "      <td>0.0</td>\n",
              "      <td>4.0</td>\n",
              "      <td>0.0</td>\n",
              "      <td>14.0</td>\n",
              "      <td>...</td>\n",
              "      <td>0.276785</td>\n",
              "      <td>0.565347</td>\n",
              "      <td>0.328669</td>\n",
              "      <td>0.789165</td>\n",
              "      <td>0.960406</td>\n",
              "      <td>0.776019</td>\n",
              "      <td>0.734707</td>\n",
              "      <td>0.484392</td>\n",
              "      <td>0.639754</td>\n",
              "      <td>0.689317</td>\n",
              "    </tr>\n",
              "  </tbody>\n",
              "</table>\n",
              "<p>298733 rows × 24 columns</p>\n",
              "</div>"
            ]
          },
          "metadata": {},
          "execution_count": 53
        }
      ],
      "metadata": {}
    },
    {
      "cell_type": "code",
      "execution_count": 81,
      "source": [
        "\n",
        "# parameters to search \n",
        "params2 = { 'max_depth': [6],\n",
        "           'learning_rate': [0.01, 0.05],\n",
        "           'n_estimators': [300, 600, 900, 1200, 1500]}\n",
        "\n",
        "def param_tuning(params):\n",
        "\n",
        "        model = XGBRegressor(n_estimators=1000, max_depth=3, \n",
        "                        learning_rate=0.01, objective='reg:squarederror', random_state=1)\n",
        "        grid_search = GridSearchCV(estimator=model, \n",
        "                        param_grid=params,\n",
        "                        scoring='neg_mean_squared_error', \n",
        "                        verbose=3,\n",
        "                        cv=2)\n",
        "        grid_search.fit(X, y)\n",
        "        print(\"Best parameters:\", grid_search.best_params_)\n",
        "        print(\"Lowest RMSE: \", (-grid_search.best_score_)**0.5)\n",
        "        return grid_search\n",
        "\n",
        "grid_search_results2 = param_tuning(params2)"
      ],
      "outputs": [
        {
          "output_type": "stream",
          "name": "stdout",
          "text": [
            "Fitting 2 folds for each of 10 candidates, totalling 20 fits\n",
            "[CV] learning_rate=0.01, max_depth=6, n_estimators=300 ...............\n"
          ]
        },
        {
          "output_type": "stream",
          "name": "stderr",
          "text": [
            "[Parallel(n_jobs=1)]: Using backend SequentialBackend with 1 concurrent workers.\n"
          ]
        },
        {
          "output_type": "stream",
          "name": "stdout",
          "text": [
            "[CV]  learning_rate=0.01, max_depth=6, n_estimators=300, score=-0.683, total= 1.1min\n",
            "[CV] learning_rate=0.01, max_depth=6, n_estimators=300 ...............\n"
          ]
        },
        {
          "output_type": "stream",
          "name": "stderr",
          "text": [
            "[Parallel(n_jobs=1)]: Done   1 out of   1 | elapsed:  1.1min remaining:    0.0s\n"
          ]
        },
        {
          "output_type": "stream",
          "name": "stdout",
          "text": [
            "[CV]  learning_rate=0.01, max_depth=6, n_estimators=300, score=-0.681, total= 1.1min\n",
            "[CV] learning_rate=0.01, max_depth=6, n_estimators=600 ...............\n"
          ]
        },
        {
          "output_type": "stream",
          "name": "stderr",
          "text": [
            "[Parallel(n_jobs=1)]: Done   2 out of   2 | elapsed:  2.2min remaining:    0.0s\n"
          ]
        },
        {
          "output_type": "stream",
          "name": "stdout",
          "text": [
            "[CV]  learning_rate=0.01, max_depth=6, n_estimators=600, score=-0.531, total= 2.2min\n",
            "[CV] learning_rate=0.01, max_depth=6, n_estimators=600 ...............\n",
            "[CV]  learning_rate=0.01, max_depth=6, n_estimators=600, score=-0.531, total= 2.1min\n",
            "[CV] learning_rate=0.01, max_depth=6, n_estimators=900 ...............\n",
            "[CV]  learning_rate=0.01, max_depth=6, n_estimators=900, score=-0.527, total= 3.2min\n",
            "[CV] learning_rate=0.01, max_depth=6, n_estimators=900 ...............\n",
            "[CV]  learning_rate=0.01, max_depth=6, n_estimators=900, score=-0.528, total= 3.2min\n",
            "[CV] learning_rate=0.01, max_depth=6, n_estimators=1200 ..............\n",
            "[CV]  learning_rate=0.01, max_depth=6, n_estimators=1200, score=-0.525, total= 4.4min\n",
            "[CV] learning_rate=0.01, max_depth=6, n_estimators=1200 ..............\n",
            "[CV]  learning_rate=0.01, max_depth=6, n_estimators=1200, score=-0.526, total= 4.3min\n",
            "[CV] learning_rate=0.01, max_depth=6, n_estimators=1500 ..............\n",
            "[CV]  learning_rate=0.01, max_depth=6, n_estimators=1500, score=-0.524, total= 5.5min\n",
            "[CV] learning_rate=0.01, max_depth=6, n_estimators=1500 ..............\n",
            "[CV]  learning_rate=0.01, max_depth=6, n_estimators=1500, score=-0.524, total= 5.3min\n",
            "[CV] learning_rate=0.05, max_depth=6, n_estimators=300 ...............\n",
            "[CV]  learning_rate=0.05, max_depth=6, n_estimators=300, score=-0.524, total= 1.1min\n",
            "[CV] learning_rate=0.05, max_depth=6, n_estimators=300 ...............\n",
            "[CV]  learning_rate=0.05, max_depth=6, n_estimators=300, score=-0.524, total= 1.0min\n",
            "[CV] learning_rate=0.05, max_depth=6, n_estimators=600 ...............\n",
            "[CV]  learning_rate=0.05, max_depth=6, n_estimators=600, score=-0.522, total= 2.1min\n",
            "[CV] learning_rate=0.05, max_depth=6, n_estimators=600 ...............\n",
            "[CV]  learning_rate=0.05, max_depth=6, n_estimators=600, score=-0.522, total= 2.1min\n",
            "[CV] learning_rate=0.05, max_depth=6, n_estimators=900 ...............\n",
            "[CV]  learning_rate=0.05, max_depth=6, n_estimators=900, score=-0.523, total= 3.1min\n",
            "[CV] learning_rate=0.05, max_depth=6, n_estimators=900 ...............\n",
            "[CV]  learning_rate=0.05, max_depth=6, n_estimators=900, score=-0.523, total= 3.0min\n",
            "[CV] learning_rate=0.05, max_depth=6, n_estimators=1200 ..............\n",
            "[CV]  learning_rate=0.05, max_depth=6, n_estimators=1200, score=-0.523, total= 3.9min\n",
            "[CV] learning_rate=0.05, max_depth=6, n_estimators=1200 ..............\n",
            "[CV]  learning_rate=0.05, max_depth=6, n_estimators=1200, score=-0.523, total= 4.8min\n",
            "[CV] learning_rate=0.05, max_depth=6, n_estimators=1500 ..............\n",
            "[CV]  learning_rate=0.05, max_depth=6, n_estimators=1500, score=-0.524, total= 7.1min\n",
            "[CV] learning_rate=0.05, max_depth=6, n_estimators=1500 ..............\n",
            "[CV]  learning_rate=0.05, max_depth=6, n_estimators=1500, score=-0.524, total=11.5min\n"
          ]
        },
        {
          "output_type": "stream",
          "name": "stderr",
          "text": [
            "[Parallel(n_jobs=1)]: Done  20 out of  20 | elapsed: 72.1min finished\n"
          ]
        },
        {
          "output_type": "stream",
          "name": "stdout",
          "text": [
            "Best parameters: {'learning_rate': 0.05, 'max_depth': 6, 'n_estimators': 600}\n",
            "Lowest RMSE:  0.7227608322274359\n"
          ]
        }
      ],
      "metadata": {}
    },
    {
      "cell_type": "code",
      "execution_count": 82,
      "source": [
        "predictions = grid_search_results2.predict(X_test)\n",
        "OUTPUT_PATH = 'output'\n",
        "def output_submission(prediction, file_name):\n",
        "    \"\"\"creating a kaggle submission file\n",
        "\n",
        "    Args:\n",
        "        prediction (array): an array of predictions of the test dataset\n",
        "        file_name (string): a string for the name without the extension\n",
        "    \"\"\"\n",
        "    my_submission = pd.DataFrame({'target': predictions},\n",
        "                                 index=X_test.index)\n",
        "    #my_submission.set_index('id')\n",
        "    file_path = os.path.join(OUTPUT_PATH,file_name)\n",
        "    my_submission.to_csv(f'{file_path}.csv')\n",
        "    print(f'A submission file has been made at {file_path}')"
      ],
      "outputs": [],
      "metadata": {}
    },
    {
      "cell_type": "code",
      "execution_count": 83,
      "source": [
        "output_submission(predictions, \"submission5-4\")"
      ],
      "outputs": [
        {
          "output_type": "stream",
          "name": "stdout",
          "text": [
            "A submission file has been made at output/submission5-4\n"
          ]
        }
      ],
      "metadata": {}
    },
    {
      "cell_type": "code",
      "execution_count": 84,
      "source": [
        "## for max_depth =10\n",
        "\n",
        "# parameters to search \n",
        "params10 = { 'max_depth': [10],\n",
        "           'learning_rate': [0.01, 0.05],\n",
        "           'n_estimators': [300, 600, 900, 1200, 1500]}\n",
        "\n",
        "\n",
        "def param_tuning(params):\n",
        "\n",
        "        model = XGBRegressor(n_estimators=1000, max_depth=3, \n",
        "                        learning_rate=0.01, objective='reg:squarederror', random_state=1)\n",
        "        grid_search = GridSearchCV(estimator=model, \n",
        "                        param_grid=params,\n",
        "                        scoring='neg_mean_squared_error', \n",
        "                        verbose=3,\n",
        "                        cv=2)\n",
        "        grid_search.fit(X, y)\n",
        "        print(\"Best parameters:\", grid_search.best_params_)\n",
        "        print(\"Lowest RMSE: \", (-grid_search.best_score_)**0.5)\n",
        "        return grid_search"
      ],
      "outputs": [],
      "metadata": {}
    },
    {
      "cell_type": "code",
      "execution_count": 85,
      "source": [
        "grid_search_results10 = param_tuning(params10)"
      ],
      "outputs": [
        {
          "output_type": "stream",
          "name": "stdout",
          "text": [
            "Fitting 2 folds for each of 10 candidates, totalling 20 fits\n",
            "[CV] learning_rate=0.01, max_depth=10, n_estimators=300 ..............\n"
          ]
        },
        {
          "output_type": "stream",
          "name": "stderr",
          "text": [
            "[Parallel(n_jobs=1)]: Using backend SequentialBackend with 1 concurrent workers.\n"
          ]
        },
        {
          "output_type": "stream",
          "name": "stdout",
          "text": [
            "[CV]  learning_rate=0.01, max_depth=10, n_estimators=300, score=-0.681, total= 2.0min\n",
            "[CV] learning_rate=0.01, max_depth=10, n_estimators=300 ..............\n"
          ]
        },
        {
          "output_type": "stream",
          "name": "stderr",
          "text": [
            "[Parallel(n_jobs=1)]: Done   1 out of   1 | elapsed:  2.0min remaining:    0.0s\n"
          ]
        },
        {
          "output_type": "stream",
          "name": "stdout",
          "text": [
            "[CV]  learning_rate=0.01, max_depth=10, n_estimators=300, score=-0.680, total= 1.8min\n",
            "[CV] learning_rate=0.01, max_depth=10, n_estimators=600 ..............\n"
          ]
        },
        {
          "output_type": "stream",
          "name": "stderr",
          "text": [
            "[Parallel(n_jobs=1)]: Done   2 out of   2 | elapsed:  3.7min remaining:    0.0s\n"
          ]
        },
        {
          "output_type": "stream",
          "name": "stdout",
          "text": [
            "[CV]  learning_rate=0.01, max_depth=10, n_estimators=600, score=-0.529, total= 4.0min\n",
            "[CV] learning_rate=0.01, max_depth=10, n_estimators=600 ..............\n",
            "[CV]  learning_rate=0.01, max_depth=10, n_estimators=600, score=-0.529, total= 3.9min\n",
            "[CV] learning_rate=0.01, max_depth=10, n_estimators=900 ..............\n",
            "[CV]  learning_rate=0.01, max_depth=10, n_estimators=900, score=-0.527, total= 6.1min\n",
            "[CV] learning_rate=0.01, max_depth=10, n_estimators=900 ..............\n",
            "[CV]  learning_rate=0.01, max_depth=10, n_estimators=900, score=-0.527, total= 6.2min\n",
            "[CV] learning_rate=0.01, max_depth=10, n_estimators=1200 .............\n",
            "[CV]  learning_rate=0.01, max_depth=10, n_estimators=1200, score=-0.527, total= 8.6min\n",
            "[CV] learning_rate=0.01, max_depth=10, n_estimators=1200 .............\n",
            "[CV]  learning_rate=0.01, max_depth=10, n_estimators=1200, score=-0.527, total= 7.8min\n",
            "[CV] learning_rate=0.01, max_depth=10, n_estimators=1500 .............\n",
            "[CV]  learning_rate=0.01, max_depth=10, n_estimators=1500, score=-0.527, total= 9.6min\n",
            "[CV] learning_rate=0.01, max_depth=10, n_estimators=1500 .............\n",
            "[CV]  learning_rate=0.01, max_depth=10, n_estimators=1500, score=-0.527, total= 9.2min\n",
            "[CV] learning_rate=0.05, max_depth=10, n_estimators=300 ..............\n",
            "[CV]  learning_rate=0.05, max_depth=10, n_estimators=300, score=-0.528, total= 1.7min\n",
            "[CV] learning_rate=0.05, max_depth=10, n_estimators=300 ..............\n",
            "[CV]  learning_rate=0.05, max_depth=10, n_estimators=300, score=-0.529, total= 1.8min\n",
            "[CV] learning_rate=0.05, max_depth=10, n_estimators=600 ..............\n",
            "[CV]  learning_rate=0.05, max_depth=10, n_estimators=600, score=-0.530, total= 3.5min\n",
            "[CV] learning_rate=0.05, max_depth=10, n_estimators=600 ..............\n",
            "[CV]  learning_rate=0.05, max_depth=10, n_estimators=600, score=-0.531, total= 3.5min\n",
            "[CV] learning_rate=0.05, max_depth=10, n_estimators=900 ..............\n",
            "[CV]  learning_rate=0.05, max_depth=10, n_estimators=900, score=-0.532, total= 5.5min\n",
            "[CV] learning_rate=0.05, max_depth=10, n_estimators=900 ..............\n",
            "[CV]  learning_rate=0.05, max_depth=10, n_estimators=900, score=-0.533, total=11.2min\n",
            "[CV] learning_rate=0.05, max_depth=10, n_estimators=1200 .............\n",
            "[CV]  learning_rate=0.05, max_depth=10, n_estimators=1200, score=-0.535, total=28.3min\n",
            "[CV] learning_rate=0.05, max_depth=10, n_estimators=1200 .............\n",
            "[CV]  learning_rate=0.05, max_depth=10, n_estimators=1200, score=-0.535, total= 8.2min\n",
            "[CV] learning_rate=0.05, max_depth=10, n_estimators=1500 .............\n",
            "[CV]  learning_rate=0.05, max_depth=10, n_estimators=1500, score=-0.536, total=10.2min\n",
            "[CV] learning_rate=0.05, max_depth=10, n_estimators=1500 .............\n",
            "[CV]  learning_rate=0.05, max_depth=10, n_estimators=1500, score=-0.536, total= 9.5min\n"
          ]
        },
        {
          "output_type": "stream",
          "name": "stderr",
          "text": [
            "[Parallel(n_jobs=1)]: Done  20 out of  20 | elapsed: 142.6min finished\n"
          ]
        },
        {
          "output_type": "stream",
          "name": "stdout",
          "text": [
            "Best parameters: {'learning_rate': 0.01, 'max_depth': 10, 'n_estimators': 1200}\n",
            "Lowest RMSE:  0.7257199867083844\n"
          ]
        }
      ],
      "metadata": {}
    },
    {
      "cell_type": "code",
      "execution_count": 87,
      "source": [
        "# parameters to search \n",
        "params3 = { 'max_depth': [3],\n",
        "           'learning_rate': [0.01, 0.05],\n",
        "           'n_estimators': [1600, 1700, 1900]}\n",
        "\n",
        "def param_tuning(params):\n",
        "\n",
        "        model = XGBRegressor(n_estimators=1000, max_depth=3, \n",
        "                        learning_rate=0.01, objective='reg:squarederror', random_state=1)\n",
        "        grid_search = GridSearchCV(estimator=model, \n",
        "                        param_grid=params,\n",
        "                        scoring='neg_mean_squared_error', \n",
        "                        verbose=3,\n",
        "                        cv=2)\n",
        "        grid_search.fit(X, y)\n",
        "        print(\"Best parameters:\", grid_search.best_params_)\n",
        "        print(\"Lowest RMSE: \", (-grid_search.best_score_)**0.5)\n",
        "        return grid_search"
      ],
      "outputs": [],
      "metadata": {}
    },
    {
      "cell_type": "code",
      "execution_count": 88,
      "source": [
        "grid_search_results3 = param_tuning(params3)"
      ],
      "outputs": [
        {
          "output_type": "stream",
          "name": "stdout",
          "text": [
            "Fitting 2 folds for each of 6 candidates, totalling 12 fits\n",
            "[CV] learning_rate=0.01, max_depth=3, n_estimators=1600 ..............\n"
          ]
        },
        {
          "output_type": "stream",
          "name": "stderr",
          "text": [
            "[Parallel(n_jobs=1)]: Using backend SequentialBackend with 1 concurrent workers.\n"
          ]
        },
        {
          "output_type": "stream",
          "name": "stdout",
          "text": [
            "[CV]  learning_rate=0.01, max_depth=3, n_estimators=1600, score=-0.530, total= 3.3min\n",
            "[CV] learning_rate=0.01, max_depth=3, n_estimators=1600 ..............\n"
          ]
        },
        {
          "output_type": "stream",
          "name": "stderr",
          "text": [
            "[Parallel(n_jobs=1)]: Done   1 out of   1 | elapsed:  3.3min remaining:    0.0s\n"
          ]
        },
        {
          "output_type": "stream",
          "name": "stdout",
          "text": [
            "[CV]  learning_rate=0.01, max_depth=3, n_estimators=1600, score=-0.531, total= 3.2min\n",
            "[CV] learning_rate=0.01, max_depth=3, n_estimators=1700 ..............\n"
          ]
        },
        {
          "output_type": "stream",
          "name": "stderr",
          "text": [
            "[Parallel(n_jobs=1)]: Done   2 out of   2 | elapsed:  6.5min remaining:    0.0s\n"
          ]
        },
        {
          "output_type": "stream",
          "name": "stdout",
          "text": [
            "[CV]  learning_rate=0.01, max_depth=3, n_estimators=1700, score=-0.530, total= 3.4min\n",
            "[CV] learning_rate=0.01, max_depth=3, n_estimators=1700 ..............\n",
            "[CV]  learning_rate=0.01, max_depth=3, n_estimators=1700, score=-0.530, total= 3.3min\n",
            "[CV] learning_rate=0.01, max_depth=3, n_estimators=1900 ..............\n",
            "[CV]  learning_rate=0.01, max_depth=3, n_estimators=1900, score=-0.529, total= 3.7min\n",
            "[CV] learning_rate=0.01, max_depth=3, n_estimators=1900 ..............\n",
            "[CV]  learning_rate=0.01, max_depth=3, n_estimators=1900, score=-0.529, total= 3.7min\n",
            "[CV] learning_rate=0.05, max_depth=3, n_estimators=1600 ..............\n",
            "[CV]  learning_rate=0.05, max_depth=3, n_estimators=1600, score=-0.521, total= 2.8min\n",
            "[CV] learning_rate=0.05, max_depth=3, n_estimators=1600 ..............\n",
            "[CV]  learning_rate=0.05, max_depth=3, n_estimators=1600, score=-0.520, total= 2.8min\n",
            "[CV] learning_rate=0.05, max_depth=3, n_estimators=1700 ..............\n",
            "[CV]  learning_rate=0.05, max_depth=3, n_estimators=1700, score=-0.520, total= 2.9min\n",
            "[CV] learning_rate=0.05, max_depth=3, n_estimators=1700 ..............\n",
            "[CV]  learning_rate=0.05, max_depth=3, n_estimators=1700, score=-0.520, total= 3.0min\n",
            "[CV] learning_rate=0.05, max_depth=3, n_estimators=1900 ..............\n",
            "[CV]  learning_rate=0.05, max_depth=3, n_estimators=1900, score=-0.520, total= 3.7min\n",
            "[CV] learning_rate=0.05, max_depth=3, n_estimators=1900 ..............\n",
            "[CV]  learning_rate=0.05, max_depth=3, n_estimators=1900, score=-0.520, total= 3.7min\n"
          ]
        },
        {
          "output_type": "stream",
          "name": "stderr",
          "text": [
            "[Parallel(n_jobs=1)]: Done  12 out of  12 | elapsed: 39.6min finished\n"
          ]
        },
        {
          "output_type": "stream",
          "name": "stdout",
          "text": [
            "Best parameters: {'learning_rate': 0.05, 'max_depth': 3, 'n_estimators': 1900}\n",
            "Lowest RMSE:  0.7210604314934709\n"
          ]
        }
      ],
      "metadata": {}
    },
    {
      "cell_type": "code",
      "execution_count": 89,
      "source": [
        "grid_search_results"
      ],
      "outputs": [
        {
          "output_type": "execute_result",
          "data": {
            "text/plain": [
              "GridSearchCV(cv=2, error_score=nan,\n",
              "             estimator=XGBRegressor(base_score=None, booster=None,\n",
              "                                    colsample_bylevel=None,\n",
              "                                    colsample_bynode=None,\n",
              "                                    colsample_bytree=None, gamma=None,\n",
              "                                    gpu_id=None, importance_type='gain',\n",
              "                                    interaction_constraints=None,\n",
              "                                    learning_rate=0.01, max_delta_step=None,\n",
              "                                    max_depth=3, min_child_weight=None,\n",
              "                                    missing=nan, monotone_constraints=None,\n",
              "                                    n_estimator...\n",
              "                                    random_state=1, reg_alpha=None,\n",
              "                                    reg_lambda=None, scale_pos_weight=None,\n",
              "                                    subsample=None, tree_method=None,\n",
              "                                    validate_parameters=None, verbosity=None),\n",
              "             iid='deprecated', n_jobs=None,\n",
              "             param_grid={'learning_rate': [0.01, 0.05], 'max_depth': [3],\n",
              "                         'n_estimators': [300, 600, 900, 1200, 1500]},\n",
              "             pre_dispatch='2*n_jobs', refit=True, return_train_score=False,\n",
              "             scoring='neg_mean_squared_error', verbose=3)"
            ]
          },
          "metadata": {},
          "execution_count": 89
        }
      ],
      "metadata": {}
    },
    {
      "cell_type": "code",
      "execution_count": null,
      "source": [],
      "outputs": [],
      "metadata": {}
    }
  ]
}